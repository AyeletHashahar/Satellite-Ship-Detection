{
  "cells": [
    {
      "cell_type": "code",
      "execution_count": null,
      "metadata": {
        "colab": {
          "base_uri": "https://localhost:8080/"
        },
        "id": "ZFNBSMPA4jOf",
        "outputId": "b511119c-0c9d-48f5-e842-9ff8338ae424"
      },
      "outputs": [
        {
          "output_type": "stream",
          "name": "stdout",
          "text": [
            "Collecting ultralytics\n",
            "  Downloading ultralytics-8.3.133-py3-none-any.whl.metadata (37 kB)\n",
            "Requirement already satisfied: numpy>=1.23.0 in /usr/local/lib/python3.11/dist-packages (from ultralytics) (2.0.2)\n",
            "Requirement already satisfied: matplotlib>=3.3.0 in /usr/local/lib/python3.11/dist-packages (from ultralytics) (3.10.0)\n",
            "Requirement already satisfied: opencv-python>=4.6.0 in /usr/local/lib/python3.11/dist-packages (from ultralytics) (4.11.0.86)\n",
            "Requirement already satisfied: pillow>=7.1.2 in /usr/local/lib/python3.11/dist-packages (from ultralytics) (11.2.1)\n",
            "Requirement already satisfied: pyyaml>=5.3.1 in /usr/local/lib/python3.11/dist-packages (from ultralytics) (6.0.2)\n",
            "Requirement already satisfied: requests>=2.23.0 in /usr/local/lib/python3.11/dist-packages (from ultralytics) (2.32.3)\n",
            "Requirement already satisfied: scipy>=1.4.1 in /usr/local/lib/python3.11/dist-packages (from ultralytics) (1.15.3)\n",
            "Requirement already satisfied: torch>=1.8.0 in /usr/local/lib/python3.11/dist-packages (from ultralytics) (2.6.0+cu124)\n",
            "Requirement already satisfied: torchvision>=0.9.0 in /usr/local/lib/python3.11/dist-packages (from ultralytics) (0.21.0+cu124)\n",
            "Requirement already satisfied: tqdm>=4.64.0 in /usr/local/lib/python3.11/dist-packages (from ultralytics) (4.67.1)\n",
            "Requirement already satisfied: psutil in /usr/local/lib/python3.11/dist-packages (from ultralytics) (5.9.5)\n",
            "Requirement already satisfied: py-cpuinfo in /usr/local/lib/python3.11/dist-packages (from ultralytics) (9.0.0)\n",
            "Requirement already satisfied: pandas>=1.1.4 in /usr/local/lib/python3.11/dist-packages (from ultralytics) (2.2.2)\n",
            "Requirement already satisfied: seaborn>=0.11.0 in /usr/local/lib/python3.11/dist-packages (from ultralytics) (0.13.2)\n",
            "Collecting ultralytics-thop>=2.0.0 (from ultralytics)\n",
            "  Downloading ultralytics_thop-2.0.14-py3-none-any.whl.metadata (9.4 kB)\n",
            "Requirement already satisfied: contourpy>=1.0.1 in /usr/local/lib/python3.11/dist-packages (from matplotlib>=3.3.0->ultralytics) (1.3.2)\n",
            "Requirement already satisfied: cycler>=0.10 in /usr/local/lib/python3.11/dist-packages (from matplotlib>=3.3.0->ultralytics) (0.12.1)\n",
            "Requirement already satisfied: fonttools>=4.22.0 in /usr/local/lib/python3.11/dist-packages (from matplotlib>=3.3.0->ultralytics) (4.57.0)\n",
            "Requirement already satisfied: kiwisolver>=1.3.1 in /usr/local/lib/python3.11/dist-packages (from matplotlib>=3.3.0->ultralytics) (1.4.8)\n",
            "Requirement already satisfied: packaging>=20.0 in /usr/local/lib/python3.11/dist-packages (from matplotlib>=3.3.0->ultralytics) (24.2)\n",
            "Requirement already satisfied: pyparsing>=2.3.1 in /usr/local/lib/python3.11/dist-packages (from matplotlib>=3.3.0->ultralytics) (3.2.3)\n",
            "Requirement already satisfied: python-dateutil>=2.7 in /usr/local/lib/python3.11/dist-packages (from matplotlib>=3.3.0->ultralytics) (2.9.0.post0)\n",
            "Requirement already satisfied: pytz>=2020.1 in /usr/local/lib/python3.11/dist-packages (from pandas>=1.1.4->ultralytics) (2025.2)\n",
            "Requirement already satisfied: tzdata>=2022.7 in /usr/local/lib/python3.11/dist-packages (from pandas>=1.1.4->ultralytics) (2025.2)\n",
            "Requirement already satisfied: charset-normalizer<4,>=2 in /usr/local/lib/python3.11/dist-packages (from requests>=2.23.0->ultralytics) (3.4.2)\n",
            "Requirement already satisfied: idna<4,>=2.5 in /usr/local/lib/python3.11/dist-packages (from requests>=2.23.0->ultralytics) (3.10)\n",
            "Requirement already satisfied: urllib3<3,>=1.21.1 in /usr/local/lib/python3.11/dist-packages (from requests>=2.23.0->ultralytics) (2.4.0)\n",
            "Requirement already satisfied: certifi>=2017.4.17 in /usr/local/lib/python3.11/dist-packages (from requests>=2.23.0->ultralytics) (2025.4.26)\n",
            "Requirement already satisfied: filelock in /usr/local/lib/python3.11/dist-packages (from torch>=1.8.0->ultralytics) (3.18.0)\n",
            "Requirement already satisfied: typing-extensions>=4.10.0 in /usr/local/lib/python3.11/dist-packages (from torch>=1.8.0->ultralytics) (4.13.2)\n",
            "Requirement already satisfied: networkx in /usr/local/lib/python3.11/dist-packages (from torch>=1.8.0->ultralytics) (3.4.2)\n",
            "Requirement already satisfied: jinja2 in /usr/local/lib/python3.11/dist-packages (from torch>=1.8.0->ultralytics) (3.1.6)\n",
            "Requirement already satisfied: fsspec in /usr/local/lib/python3.11/dist-packages (from torch>=1.8.0->ultralytics) (2025.3.2)\n",
            "Collecting nvidia-cuda-nvrtc-cu12==12.4.127 (from torch>=1.8.0->ultralytics)\n",
            "  Downloading nvidia_cuda_nvrtc_cu12-12.4.127-py3-none-manylinux2014_x86_64.whl.metadata (1.5 kB)\n",
            "Collecting nvidia-cuda-runtime-cu12==12.4.127 (from torch>=1.8.0->ultralytics)\n",
            "  Downloading nvidia_cuda_runtime_cu12-12.4.127-py3-none-manylinux2014_x86_64.whl.metadata (1.5 kB)\n",
            "Collecting nvidia-cuda-cupti-cu12==12.4.127 (from torch>=1.8.0->ultralytics)\n",
            "  Downloading nvidia_cuda_cupti_cu12-12.4.127-py3-none-manylinux2014_x86_64.whl.metadata (1.6 kB)\n",
            "Collecting nvidia-cudnn-cu12==9.1.0.70 (from torch>=1.8.0->ultralytics)\n",
            "  Downloading nvidia_cudnn_cu12-9.1.0.70-py3-none-manylinux2014_x86_64.whl.metadata (1.6 kB)\n",
            "Collecting nvidia-cublas-cu12==12.4.5.8 (from torch>=1.8.0->ultralytics)\n",
            "  Downloading nvidia_cublas_cu12-12.4.5.8-py3-none-manylinux2014_x86_64.whl.metadata (1.5 kB)\n",
            "Collecting nvidia-cufft-cu12==11.2.1.3 (from torch>=1.8.0->ultralytics)\n",
            "  Downloading nvidia_cufft_cu12-11.2.1.3-py3-none-manylinux2014_x86_64.whl.metadata (1.5 kB)\n",
            "Collecting nvidia-curand-cu12==10.3.5.147 (from torch>=1.8.0->ultralytics)\n",
            "  Downloading nvidia_curand_cu12-10.3.5.147-py3-none-manylinux2014_x86_64.whl.metadata (1.5 kB)\n",
            "Collecting nvidia-cusolver-cu12==11.6.1.9 (from torch>=1.8.0->ultralytics)\n",
            "  Downloading nvidia_cusolver_cu12-11.6.1.9-py3-none-manylinux2014_x86_64.whl.metadata (1.6 kB)\n",
            "Collecting nvidia-cusparse-cu12==12.3.1.170 (from torch>=1.8.0->ultralytics)\n",
            "  Downloading nvidia_cusparse_cu12-12.3.1.170-py3-none-manylinux2014_x86_64.whl.metadata (1.6 kB)\n",
            "Requirement already satisfied: nvidia-cusparselt-cu12==0.6.2 in /usr/local/lib/python3.11/dist-packages (from torch>=1.8.0->ultralytics) (0.6.2)\n",
            "Requirement already satisfied: nvidia-nccl-cu12==2.21.5 in /usr/local/lib/python3.11/dist-packages (from torch>=1.8.0->ultralytics) (2.21.5)\n",
            "Requirement already satisfied: nvidia-nvtx-cu12==12.4.127 in /usr/local/lib/python3.11/dist-packages (from torch>=1.8.0->ultralytics) (12.4.127)\n",
            "Collecting nvidia-nvjitlink-cu12==12.4.127 (from torch>=1.8.0->ultralytics)\n",
            "  Downloading nvidia_nvjitlink_cu12-12.4.127-py3-none-manylinux2014_x86_64.whl.metadata (1.5 kB)\n",
            "Requirement already satisfied: triton==3.2.0 in /usr/local/lib/python3.11/dist-packages (from torch>=1.8.0->ultralytics) (3.2.0)\n",
            "Requirement already satisfied: sympy==1.13.1 in /usr/local/lib/python3.11/dist-packages (from torch>=1.8.0->ultralytics) (1.13.1)\n",
            "Requirement already satisfied: mpmath<1.4,>=1.1.0 in /usr/local/lib/python3.11/dist-packages (from sympy==1.13.1->torch>=1.8.0->ultralytics) (1.3.0)\n",
            "Requirement already satisfied: six>=1.5 in /usr/local/lib/python3.11/dist-packages (from python-dateutil>=2.7->matplotlib>=3.3.0->ultralytics) (1.17.0)\n",
            "Requirement already satisfied: MarkupSafe>=2.0 in /usr/local/lib/python3.11/dist-packages (from jinja2->torch>=1.8.0->ultralytics) (3.0.2)\n",
            "Downloading ultralytics-8.3.133-py3-none-any.whl (1.0 MB)\n",
            "\u001b[2K   \u001b[90m━━━━━━━━━━━━━━━━━━━━━━━━━━━━━━━━━━━━━━━━\u001b[0m \u001b[32m1.0/1.0 MB\u001b[0m \u001b[31m12.5 MB/s\u001b[0m eta \u001b[36m0:00:00\u001b[0m\n",
            "\u001b[?25hDownloading nvidia_cublas_cu12-12.4.5.8-py3-none-manylinux2014_x86_64.whl (363.4 MB)\n",
            "\u001b[2K   \u001b[90m━━━━━━━━━━━━━━━━━━━━━━━━━━━━━━━━━━━━━━━━\u001b[0m \u001b[32m363.4/363.4 MB\u001b[0m \u001b[31m3.0 MB/s\u001b[0m eta \u001b[36m0:00:00\u001b[0m\n",
            "\u001b[?25hDownloading nvidia_cuda_cupti_cu12-12.4.127-py3-none-manylinux2014_x86_64.whl (13.8 MB)\n",
            "\u001b[2K   \u001b[90m━━━━━━━━━━━━━━━━━━━━━━━━━━━━━━━━━━━━━━━━\u001b[0m \u001b[32m13.8/13.8 MB\u001b[0m \u001b[31m29.1 MB/s\u001b[0m eta \u001b[36m0:00:00\u001b[0m\n",
            "\u001b[?25hDownloading nvidia_cuda_nvrtc_cu12-12.4.127-py3-none-manylinux2014_x86_64.whl (24.6 MB)\n",
            "\u001b[2K   \u001b[90m━━━━━━━━━━━━━━━━━━━━━━━━━━━━━━━━━━━━━━━━\u001b[0m \u001b[32m24.6/24.6 MB\u001b[0m \u001b[31m26.2 MB/s\u001b[0m eta \u001b[36m0:00:00\u001b[0m\n",
            "\u001b[?25hDownloading nvidia_cuda_runtime_cu12-12.4.127-py3-none-manylinux2014_x86_64.whl (883 kB)\n",
            "\u001b[2K   \u001b[90m━━━━━━━━━━━━━━━━━━━━━━━━━━━━━━━━━━━━━━━━\u001b[0m \u001b[32m883.7/883.7 kB\u001b[0m \u001b[31m17.6 MB/s\u001b[0m eta \u001b[36m0:00:00\u001b[0m\n",
            "\u001b[?25hDownloading nvidia_cudnn_cu12-9.1.0.70-py3-none-manylinux2014_x86_64.whl (664.8 MB)\n",
            "\u001b[2K   \u001b[90m━━━━━━━━━━━━━━━━━━━━━━━━━━━━━━━━━━━━━━━━\u001b[0m \u001b[32m664.8/664.8 MB\u001b[0m \u001b[31m2.3 MB/s\u001b[0m eta \u001b[36m0:00:00\u001b[0m\n",
            "\u001b[?25hDownloading nvidia_cufft_cu12-11.2.1.3-py3-none-manylinux2014_x86_64.whl (211.5 MB)\n",
            "\u001b[2K   \u001b[90m━━━━━━━━━━━━━━━━━━━━━━━━━━━━━━━━━━━━━━━━\u001b[0m \u001b[32m211.5/211.5 MB\u001b[0m \u001b[31m6.1 MB/s\u001b[0m eta \u001b[36m0:00:00\u001b[0m\n",
            "\u001b[?25hDownloading nvidia_curand_cu12-10.3.5.147-py3-none-manylinux2014_x86_64.whl (56.3 MB)\n",
            "\u001b[2K   \u001b[90m━━━━━━━━━━━━━━━━━━━━━━━━━━━━━━━━━━━━━━━━\u001b[0m \u001b[32m56.3/56.3 MB\u001b[0m \u001b[31m11.7 MB/s\u001b[0m eta \u001b[36m0:00:00\u001b[0m\n",
            "\u001b[?25hDownloading nvidia_cusolver_cu12-11.6.1.9-py3-none-manylinux2014_x86_64.whl (127.9 MB)\n",
            "\u001b[2K   \u001b[90m━━━━━━━━━━━━━━━━━━━━━━━━━━━━━━━━━━━━━━━━\u001b[0m \u001b[32m127.9/127.9 MB\u001b[0m \u001b[31m6.9 MB/s\u001b[0m eta \u001b[36m0:00:00\u001b[0m\n",
            "\u001b[?25hDownloading nvidia_cusparse_cu12-12.3.1.170-py3-none-manylinux2014_x86_64.whl (207.5 MB)\n",
            "\u001b[2K   \u001b[90m━━━━━━━━━━━━━━━━━━━━━━━━━━━━━━━━━━━━━━━━\u001b[0m \u001b[32m207.5/207.5 MB\u001b[0m \u001b[31m6.2 MB/s\u001b[0m eta \u001b[36m0:00:00\u001b[0m\n",
            "\u001b[?25hDownloading nvidia_nvjitlink_cu12-12.4.127-py3-none-manylinux2014_x86_64.whl (21.1 MB)\n",
            "\u001b[2K   \u001b[90m━━━━━━━━━━━━━━━━━━━━━━━━━━━━━━━━━━━━━━━━\u001b[0m \u001b[32m21.1/21.1 MB\u001b[0m \u001b[31m87.8 MB/s\u001b[0m eta \u001b[36m0:00:00\u001b[0m\n",
            "\u001b[?25hDownloading ultralytics_thop-2.0.14-py3-none-any.whl (26 kB)\n",
            "Installing collected packages: nvidia-nvjitlink-cu12, nvidia-curand-cu12, nvidia-cufft-cu12, nvidia-cuda-runtime-cu12, nvidia-cuda-nvrtc-cu12, nvidia-cuda-cupti-cu12, nvidia-cublas-cu12, nvidia-cusparse-cu12, nvidia-cudnn-cu12, nvidia-cusolver-cu12, ultralytics-thop, ultralytics\n",
            "  Attempting uninstall: nvidia-nvjitlink-cu12\n",
            "    Found existing installation: nvidia-nvjitlink-cu12 12.5.82\n",
            "    Uninstalling nvidia-nvjitlink-cu12-12.5.82:\n",
            "      Successfully uninstalled nvidia-nvjitlink-cu12-12.5.82\n",
            "  Attempting uninstall: nvidia-curand-cu12\n",
            "    Found existing installation: nvidia-curand-cu12 10.3.6.82\n",
            "    Uninstalling nvidia-curand-cu12-10.3.6.82:\n",
            "      Successfully uninstalled nvidia-curand-cu12-10.3.6.82\n",
            "  Attempting uninstall: nvidia-cufft-cu12\n",
            "    Found existing installation: nvidia-cufft-cu12 11.2.3.61\n",
            "    Uninstalling nvidia-cufft-cu12-11.2.3.61:\n",
            "      Successfully uninstalled nvidia-cufft-cu12-11.2.3.61\n",
            "  Attempting uninstall: nvidia-cuda-runtime-cu12\n",
            "    Found existing installation: nvidia-cuda-runtime-cu12 12.5.82\n",
            "    Uninstalling nvidia-cuda-runtime-cu12-12.5.82:\n",
            "      Successfully uninstalled nvidia-cuda-runtime-cu12-12.5.82\n",
            "  Attempting uninstall: nvidia-cuda-nvrtc-cu12\n",
            "    Found existing installation: nvidia-cuda-nvrtc-cu12 12.5.82\n",
            "    Uninstalling nvidia-cuda-nvrtc-cu12-12.5.82:\n",
            "      Successfully uninstalled nvidia-cuda-nvrtc-cu12-12.5.82\n",
            "  Attempting uninstall: nvidia-cuda-cupti-cu12\n",
            "    Found existing installation: nvidia-cuda-cupti-cu12 12.5.82\n",
            "    Uninstalling nvidia-cuda-cupti-cu12-12.5.82:\n",
            "      Successfully uninstalled nvidia-cuda-cupti-cu12-12.5.82\n",
            "  Attempting uninstall: nvidia-cublas-cu12\n",
            "    Found existing installation: nvidia-cublas-cu12 12.5.3.2\n",
            "    Uninstalling nvidia-cublas-cu12-12.5.3.2:\n",
            "      Successfully uninstalled nvidia-cublas-cu12-12.5.3.2\n",
            "  Attempting uninstall: nvidia-cusparse-cu12\n",
            "    Found existing installation: nvidia-cusparse-cu12 12.5.1.3\n",
            "    Uninstalling nvidia-cusparse-cu12-12.5.1.3:\n",
            "      Successfully uninstalled nvidia-cusparse-cu12-12.5.1.3\n",
            "  Attempting uninstall: nvidia-cudnn-cu12\n",
            "    Found existing installation: nvidia-cudnn-cu12 9.3.0.75\n",
            "    Uninstalling nvidia-cudnn-cu12-9.3.0.75:\n",
            "      Successfully uninstalled nvidia-cudnn-cu12-9.3.0.75\n",
            "  Attempting uninstall: nvidia-cusolver-cu12\n",
            "    Found existing installation: nvidia-cusolver-cu12 11.6.3.83\n",
            "    Uninstalling nvidia-cusolver-cu12-11.6.3.83:\n",
            "      Successfully uninstalled nvidia-cusolver-cu12-11.6.3.83\n",
            "Successfully installed nvidia-cublas-cu12-12.4.5.8 nvidia-cuda-cupti-cu12-12.4.127 nvidia-cuda-nvrtc-cu12-12.4.127 nvidia-cuda-runtime-cu12-12.4.127 nvidia-cudnn-cu12-9.1.0.70 nvidia-cufft-cu12-11.2.1.3 nvidia-curand-cu12-10.3.5.147 nvidia-cusolver-cu12-11.6.1.9 nvidia-cusparse-cu12-12.3.1.170 nvidia-nvjitlink-cu12-12.4.127 ultralytics-8.3.133 ultralytics-thop-2.0.14\n"
          ]
        }
      ],
      "source": [
        "!pip install ultralytics\n"
      ]
    },
    {
      "cell_type": "code",
      "execution_count": null,
      "metadata": {
        "colab": {
          "base_uri": "https://localhost:8080/"
        },
        "id": "nTjiawPL_9u6",
        "outputId": "d99cf8bb-37d6-4953-baa3-af7b32bf5887"
      },
      "outputs": [
        {
          "output_type": "stream",
          "name": "stdout",
          "text": [
            "Extracting dataset...\n",
            "Downloading https://github.com/ultralytics/assets/releases/download/v8.3.0/yolov8n-cls.pt to 'yolov8n-cls.pt'...\n"
          ]
        },
        {
          "output_type": "stream",
          "name": "stderr",
          "text": [
            "100%|██████████| 5.31M/5.31M [00:00<00:00, 66.1MB/s]\n"
          ]
        },
        {
          "output_type": "stream",
          "name": "stdout",
          "text": [
            "Ultralytics 8.3.133 🚀 Python-3.11.12 torch-2.6.0+cu124 CPU (Intel Xeon 2.20GHz)\n",
            "\u001b[34m\u001b[1mengine/trainer: \u001b[0magnostic_nms=False, amp=True, augment=False, auto_augment=randaugment, batch=16, bgr=0.0, box=7.5, cache=False, cfg=None, classes=None, close_mosaic=10, cls=0.5, conf=None, copy_paste=0.0, copy_paste_mode=flip, cos_lr=False, cutmix=0.0, data=/content/yolo_data, degrees=0.0, deterministic=True, device=cpu, dfl=1.5, dnn=False, dropout=0.0, dynamic=False, embed=None, epochs=5, erasing=0.4, exist_ok=False, fliplr=0.5, flipud=0.0, format=torchscript, fraction=1.0, freeze=None, half=False, hsv_h=0.015, hsv_s=0.7, hsv_v=0.4, imgsz=640, int8=False, iou=0.7, keras=False, kobj=1.0, line_width=None, lr0=0.01, lrf=0.01, mask_ratio=4, max_det=300, mixup=0.0, mode=train, model=yolov8n-cls.pt, momentum=0.937, mosaic=1.0, multi_scale=False, name=train, nbs=64, nms=False, opset=None, optimize=False, optimizer=auto, overlap_mask=True, patience=100, perspective=0.0, plots=True, pose=12.0, pretrained=True, profile=False, project=None, rect=False, resume=False, retina_masks=False, save=True, save_conf=False, save_crop=False, save_dir=runs/classify/train, save_frames=False, save_json=False, save_period=-1, save_txt=False, scale=0.5, seed=0, shear=0.0, show=False, show_boxes=True, show_conf=True, show_labels=True, simplify=True, single_cls=False, source=None, split=val, stream_buffer=False, task=classify, time=None, tracker=botsort.yaml, translate=0.1, val=True, verbose=True, vid_stride=1, visualize=False, warmup_bias_lr=0.1, warmup_epochs=3.0, warmup_momentum=0.8, weight_decay=0.0005, workers=8, workspace=None\n",
            "\u001b[34m\u001b[1mtrain:\u001b[0m /content/yolo_data/train... found 3200 images in 2 classes ✅ \n",
            "\u001b[34m\u001b[1mval:\u001b[0m /content/yolo_data/val... found 400 images in 2 classes ✅ \n",
            "\u001b[34m\u001b[1mtest:\u001b[0m /content/yolo_data/test... found 400 images in 2 classes ✅ \n",
            "Overriding model.yaml nc=1000 with nc=2\n",
            "\n",
            "                   from  n    params  module                                       arguments                     \n",
            "  0                  -1  1       464  ultralytics.nn.modules.conv.Conv             [3, 16, 3, 2]                 \n",
            "  1                  -1  1      4672  ultralytics.nn.modules.conv.Conv             [16, 32, 3, 2]                \n",
            "  2                  -1  1      7360  ultralytics.nn.modules.block.C2f             [32, 32, 1, True]             \n",
            "  3                  -1  1     18560  ultralytics.nn.modules.conv.Conv             [32, 64, 3, 2]                \n",
            "  4                  -1  2     49664  ultralytics.nn.modules.block.C2f             [64, 64, 2, True]             \n",
            "  5                  -1  1     73984  ultralytics.nn.modules.conv.Conv             [64, 128, 3, 2]               \n",
            "  6                  -1  2    197632  ultralytics.nn.modules.block.C2f             [128, 128, 2, True]           \n",
            "  7                  -1  1    295424  ultralytics.nn.modules.conv.Conv             [128, 256, 3, 2]              \n",
            "  8                  -1  1    460288  ultralytics.nn.modules.block.C2f             [256, 256, 1, True]           \n",
            "  9                  -1  1    332802  ultralytics.nn.modules.head.Classify         [256, 2]                      \n",
            "YOLOv8n-cls summary: 56 layers, 1,440,850 parameters, 1,440,850 gradients, 3.4 GFLOPs\n",
            "Transferred 156/158 items from pretrained weights\n",
            "\u001b[34m\u001b[1mtrain: \u001b[0mFast image access ✅ (ping: 0.0±0.0 ms, read: 519.4±218.7 MB/s, size: 11.7 KB)\n"
          ]
        },
        {
          "output_type": "stream",
          "name": "stderr",
          "text": [
            "\u001b[34m\u001b[1mtrain: \u001b[0mScanning /content/yolo_data/train... 3200 images, 0 corrupt: 100%|██████████| 3200/3200 [00:00<00:00, 5175.04it/s]"
          ]
        },
        {
          "output_type": "stream",
          "name": "stdout",
          "text": [
            "\u001b[34m\u001b[1mtrain: \u001b[0mNew cache created: /content/yolo_data/train.cache\n",
            "\u001b[34m\u001b[1mval: \u001b[0mFast image access ✅ (ping: 0.0±0.0 ms, read: 462.0±207.1 MB/s, size: 11.4 KB)\n"
          ]
        },
        {
          "output_type": "stream",
          "name": "stderr",
          "text": [
            "\n",
            "\u001b[34m\u001b[1mval: \u001b[0mScanning /content/yolo_data/val... 400 images, 0 corrupt: 100%|██████████| 400/400 [00:00<00:00, 6448.98it/s]"
          ]
        },
        {
          "output_type": "stream",
          "name": "stdout",
          "text": [
            "\u001b[34m\u001b[1mval: \u001b[0mNew cache created: /content/yolo_data/val.cache\n",
            "\u001b[34m\u001b[1moptimizer:\u001b[0m 'optimizer=auto' found, ignoring 'lr0=0.01' and 'momentum=0.937' and determining best 'optimizer', 'lr0' and 'momentum' automatically... \n",
            "\u001b[34m\u001b[1moptimizer:\u001b[0m AdamW(lr=0.001667, momentum=0.9) with parameter groups 26 weight(decay=0.0), 27 weight(decay=0.0005), 27 bias(decay=0.0)\n",
            "Image sizes 640 train, 640 val\n",
            "Using 0 dataloader workers\n",
            "Logging results to \u001b[1mruns/classify/train\u001b[0m\n",
            "Starting training for 5 epochs...\n",
            "\n",
            "      Epoch    GPU_mem       loss  Instances       Size\n"
          ]
        },
        {
          "output_type": "stream",
          "name": "stderr",
          "text": [
            "\n",
            "        1/5         0G     0.6741         16        640:   0%|          | 1/200 [00:10<34:15, 10.33s/it]"
          ]
        },
        {
          "output_type": "stream",
          "name": "stdout",
          "text": [
            "Downloading https://ultralytics.com/assets/Arial.ttf to '/root/.config/Ultralytics/Arial.ttf'...\n"
          ]
        },
        {
          "output_type": "stream",
          "name": "stderr",
          "text": [
            "\n",
            "100%|██████████| 755k/755k [00:00<00:00, 12.9MB/s]\n",
            "        1/5         0G     0.3731         16        640: 100%|██████████| 200/200 [22:53<00:00,  6.87s/it]\n",
            "               classes   top1_acc   top5_acc: 100%|██████████| 13/13 [01:08<00:00,  5.28s/it]"
          ]
        },
        {
          "output_type": "stream",
          "name": "stdout",
          "text": [
            "                   all      0.938          1\n"
          ]
        },
        {
          "output_type": "stream",
          "name": "stderr",
          "text": [
            "\n"
          ]
        },
        {
          "output_type": "stream",
          "name": "stdout",
          "text": [
            "\n",
            "      Epoch    GPU_mem       loss  Instances       Size\n"
          ]
        },
        {
          "output_type": "stream",
          "name": "stderr",
          "text": [
            "        2/5         0G     0.2275         16        640: 100%|██████████| 200/200 [23:08<00:00,  6.94s/it]\n",
            "               classes   top1_acc   top5_acc: 100%|██████████| 13/13 [01:02<00:00,  4.82s/it]"
          ]
        },
        {
          "output_type": "stream",
          "name": "stdout",
          "text": [
            "                   all      0.882          1\n",
            "\n",
            "      Epoch    GPU_mem       loss  Instances       Size\n"
          ]
        },
        {
          "output_type": "stream",
          "name": "stderr",
          "text": [
            "\n",
            "        3/5         0G     0.1939         16        640: 100%|██████████| 200/200 [22:59<00:00,  6.90s/it]\n",
            "               classes   top1_acc   top5_acc: 100%|██████████| 13/13 [01:03<00:00,  4.92s/it]"
          ]
        },
        {
          "output_type": "stream",
          "name": "stdout",
          "text": [
            "                   all      0.973          1\n",
            "\n",
            "      Epoch    GPU_mem       loss  Instances       Size\n"
          ]
        },
        {
          "output_type": "stream",
          "name": "stderr",
          "text": [
            "\n",
            "        4/5         0G     0.1567         16        640: 100%|██████████| 200/200 [22:58<00:00,  6.89s/it]\n",
            "               classes   top1_acc   top5_acc: 100%|██████████| 13/13 [01:04<00:00,  4.95s/it]"
          ]
        },
        {
          "output_type": "stream",
          "name": "stdout",
          "text": [
            "                   all      0.965          1\n",
            "\n",
            "      Epoch    GPU_mem       loss  Instances       Size\n"
          ]
        },
        {
          "output_type": "stream",
          "name": "stderr",
          "text": [
            "\n",
            "        5/5         0G     0.1439         16        640: 100%|██████████| 200/200 [22:57<00:00,  6.89s/it]\n",
            "               classes   top1_acc   top5_acc: 100%|██████████| 13/13 [01:06<00:00,  5.09s/it]"
          ]
        },
        {
          "output_type": "stream",
          "name": "stdout",
          "text": [
            "                   all      0.973          1\n",
            "\n",
            "5 epochs completed in 2.007 hours.\n",
            "Optimizer stripped from runs/classify/train/weights/last.pt, 3.0MB\n"
          ]
        },
        {
          "output_type": "stream",
          "name": "stderr",
          "text": [
            "\n"
          ]
        },
        {
          "output_type": "stream",
          "name": "stdout",
          "text": [
            "Optimizer stripped from runs/classify/train/weights/best.pt, 3.0MB\n",
            "\n",
            "Validating runs/classify/train/weights/best.pt...\n",
            "Ultralytics 8.3.133 🚀 Python-3.11.12 torch-2.6.0+cu124 CPU (Intel Xeon 2.20GHz)\n",
            "YOLOv8n-cls summary (fused): 30 layers, 1,437,442 parameters, 0 gradients, 3.3 GFLOPs\n",
            "\u001b[34m\u001b[1mtrain:\u001b[0m /content/yolo_data/train... found 3200 images in 2 classes ✅ \n",
            "\u001b[34m\u001b[1mval:\u001b[0m /content/yolo_data/val... found 400 images in 2 classes ✅ \n",
            "\u001b[34m\u001b[1mtest:\u001b[0m /content/yolo_data/test... found 400 images in 2 classes ✅ \n"
          ]
        },
        {
          "output_type": "stream",
          "name": "stderr",
          "text": [
            "               classes   top1_acc   top5_acc: 100%|██████████| 13/13 [00:56<00:00,  4.38s/it]\n"
          ]
        },
        {
          "output_type": "stream",
          "name": "stdout",
          "text": [
            "                   all      0.973          1\n",
            "Speed: 0.0ms preprocess, 122.5ms inference, 0.0ms loss, 0.0ms postprocess per image\n",
            "Results saved to \u001b[1mruns/classify/train\u001b[0m\n",
            "Ultralytics 8.3.133 🚀 Python-3.11.12 torch-2.6.0+cu124 CPU (Intel Xeon 2.20GHz)\n",
            "\u001b[34m\u001b[1mengine/trainer: \u001b[0magnostic_nms=False, amp=True, augment=False, auto_augment=randaugment, batch=16, bgr=0.0, box=7.5, cache=False, cfg=None, classes=None, close_mosaic=10, cls=0.5, conf=None, copy_paste=0.0, copy_paste_mode=flip, cos_lr=False, cutmix=0.0, data=/content/yolo_data, degrees=0.0, deterministic=True, device=cpu, dfl=1.5, dnn=False, dropout=0.0, dynamic=False, embed=None, epochs=5, erasing=0.4, exist_ok=False, fliplr=0.5, flipud=0.0, format=torchscript, fraction=1.0, freeze=None, half=False, hsv_h=0.015, hsv_s=0.7, hsv_v=0.4, imgsz=640, int8=False, iou=0.7, keras=False, kobj=1.0, line_width=None, lr0=0.01, lrf=0.01, mask_ratio=4, max_det=300, mixup=0.0, mode=train, model=yolov8n-cls.pt, momentum=0.937, mosaic=1.0, multi_scale=False, name=train2, nbs=64, nms=False, opset=None, optimize=False, optimizer=auto, overlap_mask=True, patience=100, perspective=0.0, plots=True, pose=12.0, pretrained=True, profile=False, project=None, rect=False, resume=False, retina_masks=False, save=True, save_conf=False, save_crop=False, save_dir=runs/classify/train2, save_frames=False, save_json=False, save_period=-1, save_txt=False, scale=0.5, seed=0, shear=0.0, show=False, show_boxes=True, show_conf=True, show_labels=True, simplify=True, single_cls=False, source=None, split=val, stream_buffer=False, task=classify, time=None, tracker=botsort.yaml, translate=0.1, val=True, verbose=True, vid_stride=1, visualize=False, warmup_bias_lr=0.1, warmup_epochs=3.0, warmup_momentum=0.8, weight_decay=0.0005, workers=8, workspace=None\n",
            "\u001b[34m\u001b[1mtrain:\u001b[0m /content/yolo_data/train... found 3200 images in 2 classes ✅ \n",
            "\u001b[34m\u001b[1mval:\u001b[0m /content/yolo_data/val... found 400 images in 2 classes ✅ \n",
            "\u001b[34m\u001b[1mtest:\u001b[0m /content/yolo_data/test... found 400 images in 2 classes ✅ \n",
            "Overriding model.yaml nc=1000 with nc=2\n",
            "\n",
            "                   from  n    params  module                                       arguments                     \n",
            "  0                  -1  1       464  ultralytics.nn.modules.conv.Conv             [3, 16, 3, 2]                 \n",
            "  1                  -1  1      4672  ultralytics.nn.modules.conv.Conv             [16, 32, 3, 2]                \n",
            "  2                  -1  1      7360  ultralytics.nn.modules.block.C2f             [32, 32, 1, True]             \n",
            "  3                  -1  1     18560  ultralytics.nn.modules.conv.Conv             [32, 64, 3, 2]                \n",
            "  4                  -1  2     49664  ultralytics.nn.modules.block.C2f             [64, 64, 2, True]             \n",
            "  5                  -1  1     73984  ultralytics.nn.modules.conv.Conv             [64, 128, 3, 2]               \n",
            "  6                  -1  2    197632  ultralytics.nn.modules.block.C2f             [128, 128, 2, True]           \n",
            "  7                  -1  1    295424  ultralytics.nn.modules.conv.Conv             [128, 256, 3, 2]              \n",
            "  8                  -1  1    460288  ultralytics.nn.modules.block.C2f             [256, 256, 1, True]           \n",
            "  9                  -1  1    332802  ultralytics.nn.modules.head.Classify         [256, 2]                      \n",
            "YOLOv8n-cls summary: 56 layers, 1,440,850 parameters, 1,440,850 gradients, 3.4 GFLOPs\n",
            "Transferred 156/158 items from pretrained weights\n",
            "\u001b[34m\u001b[1mtrain: \u001b[0mFast image access ✅ (ping: 0.0±0.0 ms, read: 502.1±212.1 MB/s, size: 11.7 KB)\n"
          ]
        },
        {
          "output_type": "stream",
          "name": "stderr",
          "text": [
            "\u001b[34m\u001b[1mtrain: \u001b[0mScanning /content/yolo_data/train... 3200 images, 0 corrupt: 100%|██████████| 3200/3200 [00:00<?, ?it/s]"
          ]
        },
        {
          "output_type": "stream",
          "name": "stdout",
          "text": [
            "\u001b[34m\u001b[1mval: \u001b[0mFast image access ✅ (ping: 0.0±0.0 ms, read: 432.7±213.0 MB/s, size: 11.4 KB)\n"
          ]
        },
        {
          "output_type": "stream",
          "name": "stderr",
          "text": [
            "\n",
            "\u001b[34m\u001b[1mval: \u001b[0mScanning /content/yolo_data/val... 400 images, 0 corrupt: 100%|██████████| 400/400 [00:00<?, ?it/s]"
          ]
        },
        {
          "output_type": "stream",
          "name": "stdout",
          "text": [
            "\u001b[34m\u001b[1moptimizer:\u001b[0m 'optimizer=auto' found, ignoring 'lr0=0.01' and 'momentum=0.937' and determining best 'optimizer', 'lr0' and 'momentum' automatically... \n",
            "\u001b[34m\u001b[1moptimizer:\u001b[0m AdamW(lr=0.001667, momentum=0.9) with parameter groups 26 weight(decay=0.0), 27 weight(decay=0.0005), 27 bias(decay=0.0)\n",
            "Image sizes 640 train, 640 val\n",
            "Using 0 dataloader workers\n",
            "Logging results to \u001b[1mruns/classify/train2\u001b[0m\n",
            "Starting training for 5 epochs...\n",
            "\n",
            "      Epoch    GPU_mem       loss  Instances       Size\n"
          ]
        },
        {
          "output_type": "stream",
          "name": "stderr",
          "text": [
            "\n",
            "        1/5         0G     0.3731         16        640: 100%|██████████| 200/200 [25:27<00:00,  7.64s/it]\n",
            "               classes   top1_acc   top5_acc: 100%|██████████| 13/13 [01:03<00:00,  4.91s/it]"
          ]
        },
        {
          "output_type": "stream",
          "name": "stdout",
          "text": [
            "                   all      0.938          1\n",
            "\n",
            "      Epoch    GPU_mem       loss  Instances       Size\n"
          ]
        },
        {
          "output_type": "stream",
          "name": "stderr",
          "text": [
            "\n",
            "        2/5         0G     0.2275         16        640: 100%|██████████| 200/200 [24:35<00:00,  7.38s/it]\n",
            "               classes   top1_acc   top5_acc: 100%|██████████| 13/13 [01:07<00:00,  5.17s/it]"
          ]
        },
        {
          "output_type": "stream",
          "name": "stdout",
          "text": [
            "                   all      0.882          1\n",
            "\n",
            "      Epoch    GPU_mem       loss  Instances       Size\n"
          ]
        },
        {
          "output_type": "stream",
          "name": "stderr",
          "text": [
            "\n",
            "        3/5         0G     0.1939         16        640: 100%|██████████| 200/200 [24:54<00:00,  7.47s/it]\n",
            "               classes   top1_acc   top5_acc: 100%|██████████| 13/13 [01:07<00:00,  5.18s/it]"
          ]
        },
        {
          "output_type": "stream",
          "name": "stdout",
          "text": [
            "                   all      0.973          1\n",
            "\n",
            "      Epoch    GPU_mem       loss  Instances       Size\n"
          ]
        },
        {
          "output_type": "stream",
          "name": "stderr",
          "text": [
            "\n",
            "        4/5         0G     0.1567         16        640: 100%|██████████| 200/200 [24:44<00:00,  7.42s/it]\n",
            "               classes   top1_acc   top5_acc: 100%|██████████| 13/13 [01:03<00:00,  4.86s/it]"
          ]
        },
        {
          "output_type": "stream",
          "name": "stdout",
          "text": [
            "                   all      0.965          1\n",
            "\n",
            "      Epoch    GPU_mem       loss  Instances       Size\n"
          ]
        },
        {
          "output_type": "stream",
          "name": "stderr",
          "text": [
            "\n",
            "        5/5         0G     0.1439         16        640: 100%|██████████| 200/200 [24:37<00:00,  7.39s/it]\n",
            "               classes   top1_acc   top5_acc: 100%|██████████| 13/13 [01:03<00:00,  4.92s/it]"
          ]
        },
        {
          "output_type": "stream",
          "name": "stdout",
          "text": [
            "                   all      0.973          1\n",
            "\n",
            "5 epochs completed in 2.163 hours.\n",
            "Optimizer stripped from runs/classify/train2/weights/last.pt, 3.0MB\n"
          ]
        },
        {
          "output_type": "stream",
          "name": "stderr",
          "text": [
            "\n"
          ]
        },
        {
          "output_type": "stream",
          "name": "stdout",
          "text": [
            "Optimizer stripped from runs/classify/train2/weights/best.pt, 3.0MB\n",
            "\n",
            "Validating runs/classify/train2/weights/best.pt...\n",
            "Ultralytics 8.3.133 🚀 Python-3.11.12 torch-2.6.0+cu124 CPU (Intel Xeon 2.20GHz)\n",
            "YOLOv8n-cls summary (fused): 30 layers, 1,437,442 parameters, 0 gradients, 3.3 GFLOPs\n",
            "\u001b[34m\u001b[1mtrain:\u001b[0m /content/yolo_data/train... found 3200 images in 2 classes ✅ \n",
            "\u001b[34m\u001b[1mval:\u001b[0m /content/yolo_data/val... found 400 images in 2 classes ✅ \n",
            "\u001b[34m\u001b[1mtest:\u001b[0m /content/yolo_data/test... found 400 images in 2 classes ✅ \n"
          ]
        },
        {
          "output_type": "stream",
          "name": "stderr",
          "text": [
            "               classes   top1_acc   top5_acc: 100%|██████████| 13/13 [00:53<00:00,  4.12s/it]\n"
          ]
        },
        {
          "output_type": "stream",
          "name": "stdout",
          "text": [
            "                   all      0.973          1\n",
            "Speed: 0.0ms preprocess, 114.1ms inference, 0.0ms loss, 0.0ms postprocess per image\n",
            "Results saved to \u001b[1mruns/classify/train2\u001b[0m\n"
          ]
        }
      ],
      "source": [
        "import os\n",
        "import random\n",
        "import shutil\n",
        "import zipfile\n",
        "import pandas as pd\n",
        "from ultralytics import YOLO\n",
        "from sklearn.model_selection import train_test_split\n",
        "\n",
        "# Paths\n",
        "ZIP_PATH = \"/content/archive.zip\"\n",
        "EXTRACT_PATH = \"/content/dataset\"\n",
        "\n",
        "# Extract zip if not already done\n",
        "if not os.path.exists(EXTRACT_PATH):\n",
        "    print(\"Extracting dataset...\")\n",
        "    with zipfile.ZipFile(ZIP_PATH, 'r') as zip_ref:\n",
        "        zip_ref.extractall(EXTRACT_PATH)\n",
        "\n",
        "# Class folders\n",
        "SHIP_DIR = os.path.join(EXTRACT_PATH, \"ship\")\n",
        "NO_SHIP_DIR = os.path.join(EXTRACT_PATH, \"no-ship\")\n",
        "\n",
        "# Collect all image paths and labels\n",
        "all_images = []\n",
        "for img in os.listdir(SHIP_DIR):\n",
        "    all_images.append((os.path.join(SHIP_DIR, img), \"ship\"))\n",
        "for img in os.listdir(NO_SHIP_DIR):\n",
        "    all_images.append((os.path.join(NO_SHIP_DIR, img), \"no-ship\"))\n",
        "\n",
        "# Create DataFrame\n",
        "df = pd.DataFrame(all_images, columns=[\"filepath\", \"label\"])\n",
        "\n",
        "# Train/Val/Test split\n",
        "train_df, temp_df = train_test_split(df, test_size=0.2, stratify=df[\"label\"], random_state=42)\n",
        "val_df, test_df = train_test_split(temp_df, test_size=0.5, stratify=temp_df[\"label\"], random_state=42)\n",
        "\n",
        "# Create YOLO classification folders\n",
        "for split in [\"train\", \"val\", \"test\"]:\n",
        "    for class_name in [\"ship\", \"no-ship\"]:\n",
        "        os.makedirs(f\"/content/yolo_data/{split}/{class_name}\", exist_ok=True)\n",
        "\n",
        "# Move images into correct folders\n",
        "def process_split(df, split):\n",
        "    for _, row in df.iterrows():\n",
        "        class_name = row[\"label\"]\n",
        "        dest_dir = os.path.join(\"/content/yolo_data\", split, class_name)\n",
        "        shutil.copy(row[\"filepath\"], os.path.join(dest_dir, os.path.basename(row[\"filepath\"])))\n",
        "\n",
        "process_split(train_df, \"train\")\n",
        "process_split(val_df, \"val\")\n",
        "process_split(test_df, \"test\")\n",
        "\n",
        "# Train YOLOv8 classification model\n",
        "# regular train\n",
        "model1 = YOLO(\"yolov8n-cls.pt\")\n",
        "metrics1 = model1.train(data=\"/content/yolo_data\", epochs=5, imgsz=640)\n",
        "\n",
        "# train with frozen weights\n",
        "model2 = YOLO(\"yolov8n-cls.pt\")\n",
        "\n",
        "# Freezing the first layers\n",
        "for name, param in model2.model.named_parameters():\n",
        "    if \"backbone\" in name:\n",
        "        param.requires_grad = False\n",
        "\n",
        "metrics2 = model2.train(data=\"/content/yolo_data\", epochs=5, imgsz=640)\n",
        "\n"
      ]
    },
    {
      "cell_type": "code",
      "execution_count": null,
      "metadata": {
        "id": "RXl2m092sH8v",
        "colab": {
          "base_uri": "https://localhost:8080/",
          "height": 542
        },
        "outputId": "25930e95-17b6-48e0-c227-3f8e19a41432"
      },
      "outputs": [
        {
          "output_type": "stream",
          "name": "stdout",
          "text": [
            "Normal training accuracy: 0.9725\n",
            "Frozen weights training accuracy: 0.9725\n"
          ]
        },
        {
          "output_type": "display_data",
          "data": {
            "text/plain": [
              "<Figure size 600x500 with 1 Axes>"
            ],
            "image/png": "[encoded data removed]"
          },
          "metadata": {}
        }
      ],
      "source": [
        "import matplotlib.pyplot as plt\n",
        "\n",
        "# Extract Top-1 Accuracy values\n",
        "acc_normal = metrics1.top1\n",
        "acc_frozen = metrics2.top1\n",
        "\n",
        "# Print values for confirmation\n",
        "print(f\"Normal training accuracy: {acc_normal:.4f}\")\n",
        "print(f\"Frozen weights training accuracy: {acc_frozen:.4f}\")\n",
        "\n",
        "# Prepare labels and values\n",
        "labels = [\"Normal\", \"Frozen Weights\"]\n",
        "accuracies = [acc_normal, acc_frozen]\n",
        "\n",
        "# Create bar chart\n",
        "plt.figure(figsize=(6, 5))\n",
        "bars = plt.bar(labels, accuracies, color=[\"skyblue\", \"orange\"])\n",
        "\n",
        "# Annotate with percentage values\n",
        "for bar, acc in zip(bars, accuracies):\n",
        "    height = bar.get_height()\n",
        "    plt.text(bar.get_x() + bar.get_width() / 2, height + 0.02,\n",
        "             f\"{acc * 100:.2f}%\", ha=\"center\", va=\"bottom\", fontsize=12)\n",
        "\n",
        "# Add labels and title\n",
        "plt.ylabel(\"Top-1 Accuracy\")\n",
        "plt.title(\"YOLOv8n-cls Accuracy: Normal vs Frozen Weights\")\n",
        "plt.ylim(0, 1.05)\n",
        "plt.grid(True, axis='y', linestyle='--', alpha=0.7)\n",
        "plt.tight_layout()\n",
        "plt.show()\n"
      ]
    },
    {
      "cell_type": "code",
      "execution_count": null,
      "metadata": {
        "id": "6qggZlYnJBR7"
      },
      "outputs": [],
      "source": [
        "import os\n",
        "import glob\n",
        "from sklearn.metrics import classification_report, confusion_matrix\n",
        "import seaborn as sns\n",
        "import matplotlib.pyplot as plt\n",
        "import numpy as np\n",
        "\n",
        "# --- STEP 1: Get all test images and true labels ---\n",
        "test_image_paths = glob.glob(\"/content/yolo_data/test/*/*.png\")  # or .png\n",
        "true_labels = [path.split(\"/\")[-2] for path in test_image_paths]  # folder name is label\n",
        "\n",
        "# Map class names to indices\n",
        "class_names = sorted(list(set(true_labels)))\n",
        "class_to_idx = {name: idx for idx, name in enumerate(class_names)}\n",
        "idx_to_class = {idx: name for name, idx in class_to_idx.items()}\n",
        "\n",
        "# --- STEP 2: Run predictions on all test images ---\n",
        "predicted_labels = []\n",
        "\n",
        "print(f\"🔍 Predicting on {len(test_image_paths)} test images...\")\n",
        "\n",
        "for path in test_image_paths:\n",
        "    result = model1.predict(path, verbose=False)[0]\n",
        "    pred_class = result.names[result.probs.top1]\n",
        "    predicted_labels.append(pred_class)\n",
        "\n",
        "# --- STEP 3: Evaluate ---\n",
        "true_indices = [class_to_idx[label] for label in true_labels]\n",
        "predicted_indices = [class_to_idx[label] for label in predicted_labels]\n",
        "\n",
        "# Confusion Matrix\n",
        "cm = confusion_matrix(true_indices, predicted_indices)\n",
        "plt.figure(figsize=(6, 5))\n",
        "sns.heatmap(cm, annot=True, fmt=\"d\", xticklabels=class_names, yticklabels=class_names, cmap=\"Blues\")\n",
        "plt.xlabel(\"Predicted\")\n",
        "plt.ylabel(\"True\")\n",
        "plt.title(\"Confusion Matrix (Test Set)\")\n",
        "plt.show()\n",
        "\n",
        "# Classification Report\n",
        "report = classification_report(true_indices, predicted_indices, target_names=class_names)\n",
        "print(\"Classification Report (Test Set):\\n\")\n",
        "print(report)\n",
        "\n",
        "# Accuracy\n",
        "correct = np.sum(np.array(true_indices) == np.array(predicted_indices))\n",
        "total = len(true_indices)\n",
        "accuracy = correct / total\n",
        "print(f\"Test Set Accuracy: {accuracy * 100:.2f}%\")\n"
      ]
    },
    {
      "cell_type": "markdown",
      "source": [
        "![image.png](data:image/png;base64,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)\n"
      ],
      "metadata": {
        "id": "h4ESHAHFh5ww"
      }
    },
    {
      "cell_type": "markdown",
      "source": [
        "![image.png](data:image/png;base64,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)"
      ],
      "metadata": {
        "id": "B3S0rEWLkIxm"
      }
    }
  ],
  "metadata": {
    "colab": {
      "provenance": []
    },
    "kernelspec": {
      "display_name": "Python 3",
      "name": "python3"
    },
    "language_info": {
      "name": "python"
    }
  },
  "nbformat": 4,
  "nbformat_minor": 0
}