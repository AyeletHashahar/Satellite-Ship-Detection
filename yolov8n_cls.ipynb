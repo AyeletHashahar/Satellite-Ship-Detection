{
  "nbformat": 4,
  "nbformat_minor": 0,
  "metadata": {
    "colab": {
      "provenance": []
    },
    "kernelspec": {
      "name": "python3",
      "display_name": "Python 3"
    },
    "language_info": {
      "name": "python"
    }
  },
  "cells": [
    {
      "cell_type": "code",
      "execution_count": null,
      "metadata": {
        "id": "qsIezXOc9qAW"
      },
      "outputs": [],
      "source": [
        "pip install ultralytics opencv-python\n"
      ]
    },
    {
      "cell_type": "code",
      "source": [
        "!pip uninstall -y torch torchvision torchaudio numpy\n",
        "!pip install torch==2.0.1 torchvision==0.15.2 torchaudio==2.0.2\n",
        "!pip install --force-reinstall numpy\n",
        "!pip install ultralytics --upgrade\n"
      ],
      "metadata": {
        "id": "0YyfH8_TEFBn"
      },
      "execution_count": null,
      "outputs": []
    },
    {
      "cell_type": "code",
      "source": [
        "!pip uninstall -y numpy torch torchvision torchaudio\n",
        "!pip install numpy==1.24.4  # Stable version\n"
      ],
      "metadata": {
        "id": "zeAGW0aAFok8"
      },
      "execution_count": null,
      "outputs": []
    },
    {
      "cell_type": "code",
      "source": [
        "import os\n",
        "import random\n",
        "import shutil\n",
        "import zipfile\n",
        "import pandas as pd\n",
        "from ultralytics import YOLO\n",
        "from sklearn.model_selection import train_test_split\n",
        "\n",
        "# Paths\n",
        "ZIP_PATH = \"/content/archive.zip\"\n",
        "EXTRACT_PATH = \"/content/dataset\"\n",
        "\n",
        "# Extract zip if not already done\n",
        "if not os.path.exists(EXTRACT_PATH):\n",
        "    print(\"Extracting dataset...\")\n",
        "    with zipfile.ZipFile(ZIP_PATH, 'r') as zip_ref:\n",
        "        zip_ref.extractall(EXTRACT_PATH)\n",
        "\n",
        "# Class folders\n",
        "SHIP_DIR = os.path.join(EXTRACT_PATH, \"ship\")\n",
        "NO_SHIP_DIR = os.path.join(EXTRACT_PATH, \"no-ship\")\n",
        "\n",
        "# Collect all image paths and labels\n",
        "all_images = []\n",
        "for img in os.listdir(SHIP_DIR):\n",
        "    all_images.append((os.path.join(SHIP_DIR, img), \"ship\"))\n",
        "for img in os.listdir(NO_SHIP_DIR):\n",
        "    all_images.append((os.path.join(NO_SHIP_DIR, img), \"no-ship\"))\n",
        "\n",
        "# Create DataFrame\n",
        "df = pd.DataFrame(all_images, columns=[\"filepath\", \"label\"])\n",
        "\n",
        "# Train/Val/Test split\n",
        "train_df, temp_df = train_test_split(df, test_size=0.2, stratify=df[\"label\"], random_state=42)\n",
        "val_df, test_df = train_test_split(temp_df, test_size=0.5, stratify=temp_df[\"label\"], random_state=42)\n",
        "\n",
        "# Create YOLO classification folders\n",
        "for split in [\"train\", \"val\", \"test\"]:\n",
        "    for class_name in [\"ship\", \"no-ship\"]:\n",
        "        os.makedirs(f\"/content/yolo_data/{split}/{class_name}\", exist_ok=True)\n",
        "\n",
        "# Move images into correct folders\n",
        "def process_split(df, split):\n",
        "    for _, row in df.iterrows():\n",
        "        class_name = row[\"label\"]\n",
        "        dest_dir = os.path.join(\"/content/yolo_data\", split, class_name)\n",
        "        shutil.copy(row[\"filepath\"], os.path.join(dest_dir, os.path.basename(row[\"filepath\"])))\n",
        "\n",
        "process_split(train_df, \"train\")\n",
        "process_split(val_df, \"val\")\n",
        "process_split(test_df, \"test\")\n",
        "\n",
        "# Train YOLOv8 classification model\n",
        "model = YOLO(\"yolov8n-cls.pt\")\n",
        "model.train(data=\"/content/yolo_data\", epochs=10, imgsz=640)\n",
        "\n",
        "# Evaluate model\n",
        "metrics = model.val()\n",
        "print(metrics)\n"
      ],
      "metadata": {
        "colab": {
          "base_uri": "https://localhost:8080/",
          "height": 1000
        },
        "id": "nTjiawPL_9u6",
        "outputId": "e6430087-ab6f-4a11-d1b3-c6a1b75c88e5"
      },
      "execution_count": null,
      "outputs": [
        {
          "output_type": "stream",
          "name": "stdout",
          "text": [
            "Ultralytics 8.3.96 🚀 Python-3.11.11 torch-2.0.1+cu117 CPU (Intel Xeon 2.20GHz)\n",
            "\u001b[34m\u001b[1mengine/trainer: \u001b[0mtask=classify, mode=train, model=yolov8n-cls.pt, data=/content/yolo_data, epochs=10, time=None, patience=100, batch=16, imgsz=640, save=True, save_period=-1, cache=False, device=None, workers=8, project=None, name=train2, exist_ok=False, pretrained=True, optimizer=auto, verbose=True, seed=0, deterministic=True, single_cls=False, rect=False, cos_lr=False, close_mosaic=10, resume=False, amp=True, fraction=1.0, profile=False, freeze=None, multi_scale=False, overlap_mask=True, mask_ratio=4, dropout=0.0, val=True, split=val, save_json=False, save_hybrid=False, conf=None, iou=0.7, max_det=300, half=False, dnn=False, plots=True, source=None, vid_stride=1, stream_buffer=False, visualize=False, augment=False, agnostic_nms=False, classes=None, retina_masks=False, embed=None, show=False, save_frames=False, save_txt=False, save_conf=False, save_crop=False, show_labels=True, show_conf=True, show_boxes=True, line_width=None, format=torchscript, keras=False, optimize=False, int8=False, dynamic=False, simplify=True, opset=None, workspace=None, nms=False, lr0=0.01, lrf=0.01, momentum=0.937, weight_decay=0.0005, warmup_epochs=3.0, warmup_momentum=0.8, warmup_bias_lr=0.1, box=7.5, cls=0.5, dfl=1.5, pose=12.0, kobj=1.0, nbs=64, hsv_h=0.015, hsv_s=0.7, hsv_v=0.4, degrees=0.0, translate=0.1, scale=0.5, shear=0.0, perspective=0.0, flipud=0.0, fliplr=0.5, bgr=0.0, mosaic=1.0, mixup=0.0, copy_paste=0.0, copy_paste_mode=flip, auto_augment=randaugment, erasing=0.4, crop_fraction=1.0, cfg=None, tracker=botsort.yaml, save_dir=runs/classify/train2\n",
            "\u001b[34m\u001b[1mtrain:\u001b[0m /content/yolo_data/train... found 3200 images in 2 classes ✅ \n",
            "\u001b[34m\u001b[1mval:\u001b[0m /content/yolo_data/val... found 400 images in 2 classes ✅ \n",
            "\u001b[34m\u001b[1mtest:\u001b[0m /content/yolo_data/test... found 400 images in 2 classes ✅ \n",
            "Overriding model.yaml nc=1000 with nc=2\n",
            "\n",
            "                   from  n    params  module                                       arguments                     \n",
            "  0                  -1  1       464  ultralytics.nn.modules.conv.Conv             [3, 16, 3, 2]                 \n",
            "  1                  -1  1      4672  ultralytics.nn.modules.conv.Conv             [16, 32, 3, 2]                \n",
            "  2                  -1  1      7360  ultralytics.nn.modules.block.C2f             [32, 32, 1, True]             \n",
            "  3                  -1  1     18560  ultralytics.nn.modules.conv.Conv             [32, 64, 3, 2]                \n",
            "  4                  -1  2     49664  ultralytics.nn.modules.block.C2f             [64, 64, 2, True]             \n",
            "  5                  -1  1     73984  ultralytics.nn.modules.conv.Conv             [64, 128, 3, 2]               \n",
            "  6                  -1  2    197632  ultralytics.nn.modules.block.C2f             [128, 128, 2, True]           \n",
            "  7                  -1  1    295424  ultralytics.nn.modules.conv.Conv             [128, 256, 3, 2]              \n",
            "  8                  -1  1    460288  ultralytics.nn.modules.block.C2f             [256, 256, 1, True]           \n",
            "  9                  -1  1    332802  ultralytics.nn.modules.head.Classify         [256, 2]                      \n",
            "YOLOv8n-cls summary: 56 layers, 1,440,850 parameters, 1,440,850 gradients, 3.4 GFLOPs\n",
            "Transferred 156/158 items from pretrained weights\n"
          ]
        },
        {
          "output_type": "stream",
          "name": "stderr",
          "text": [
            "\u001b[34m\u001b[1mtrain: \u001b[0mScanning /content/yolo_data/train... 3200 images, 0 corrupt: 100%|██████████| 3200/3200 [00:00<?, ?it/s]\n",
            "\u001b[34m\u001b[1mval: \u001b[0mScanning /content/yolo_data/val... 400 images, 0 corrupt: 100%|██████████| 400/400 [00:00<?, ?it/s]"
          ]
        },
        {
          "output_type": "stream",
          "name": "stdout",
          "text": [
            "\u001b[34m\u001b[1moptimizer:\u001b[0m 'optimizer=auto' found, ignoring 'lr0=0.01' and 'momentum=0.937' and determining best 'optimizer', 'lr0' and 'momentum' automatically... \n",
            "\u001b[34m\u001b[1moptimizer:\u001b[0m AdamW(lr=0.001667, momentum=0.9) with parameter groups 26 weight(decay=0.0), 27 weight(decay=0.0005), 27 bias(decay=0.0)\n",
            "Image sizes 640 train, 640 val\n",
            "Using 0 dataloader workers\n",
            "Logging results to \u001b[1mruns/classify/train2\u001b[0m\n",
            "Starting training for 10 epochs...\n",
            "\n",
            "      Epoch    GPU_mem       loss  Instances       Size\n"
          ]
        },
        {
          "output_type": "stream",
          "name": "stderr",
          "text": [
            "\n",
            "       1/10         0G     0.3864         16        640: 100%|██████████| 200/200 [19:08<00:00,  5.74s/it]\n",
            "               classes   top1_acc   top5_acc: 100%|██████████| 13/13 [00:46<00:00,  3.55s/it]"
          ]
        },
        {
          "output_type": "stream",
          "name": "stdout",
          "text": [
            "                   all       0.79          1\n",
            "\n",
            "      Epoch    GPU_mem       loss  Instances       Size\n"
          ]
        },
        {
          "output_type": "stream",
          "name": "stderr",
          "text": [
            "\n",
            "       2/10         0G     0.2383         16        640: 100%|██████████| 200/200 [18:42<00:00,  5.61s/it]\n",
            "               classes   top1_acc   top5_acc: 100%|██████████| 13/13 [00:49<00:00,  3.84s/it]"
          ]
        },
        {
          "output_type": "stream",
          "name": "stdout",
          "text": [
            "                   all       0.95          1\n",
            "\n",
            "      Epoch    GPU_mem       loss  Instances       Size\n"
          ]
        },
        {
          "output_type": "stream",
          "name": "stderr",
          "text": [
            "\n",
            "       3/10         0G     0.2178         16        640: 100%|██████████| 200/200 [18:36<00:00,  5.58s/it]\n",
            "               classes   top1_acc   top5_acc: 100%|██████████| 13/13 [00:47<00:00,  3.68s/it]"
          ]
        },
        {
          "output_type": "stream",
          "name": "stdout",
          "text": [
            "                   all      0.973          1\n",
            "\n",
            "      Epoch    GPU_mem       loss  Instances       Size\n"
          ]
        },
        {
          "output_type": "stream",
          "name": "stderr",
          "text": [
            "\n",
            "       4/10         0G     0.2109         16        640: 100%|██████████| 200/200 [18:37<00:00,  5.59s/it]\n",
            "               classes   top1_acc   top5_acc: 100%|██████████| 13/13 [00:44<00:00,  3.39s/it]"
          ]
        },
        {
          "output_type": "stream",
          "name": "stdout",
          "text": [
            "                   all      0.962          1\n",
            "\n",
            "      Epoch    GPU_mem       loss  Instances       Size\n"
          ]
        },
        {
          "output_type": "stream",
          "name": "stderr",
          "text": [
            "\n",
            "       5/10         0G     0.1845         16        640: 100%|██████████| 200/200 [18:39<00:00,  5.60s/it]\n",
            "               classes   top1_acc   top5_acc: 100%|██████████| 13/13 [00:52<00:00,  4.01s/it]"
          ]
        },
        {
          "output_type": "stream",
          "name": "stdout",
          "text": [
            "                   all      0.995          1\n",
            "\n",
            "      Epoch    GPU_mem       loss  Instances       Size\n"
          ]
        },
        {
          "output_type": "stream",
          "name": "stderr",
          "text": [
            "\n",
            "       6/10         0G     0.1447         16        640: 100%|██████████| 200/200 [19:01<00:00,  5.71s/it]\n",
            "               classes   top1_acc   top5_acc: 100%|██████████| 13/13 [00:46<00:00,  3.60s/it]"
          ]
        },
        {
          "output_type": "stream",
          "name": "stdout",
          "text": [
            "                   all          1          1\n"
          ]
        },
        {
          "output_type": "stream",
          "name": "stderr",
          "text": [
            "\n"
          ]
        },
        {
          "output_type": "stream",
          "name": "stdout",
          "text": [
            "\n",
            "      Epoch    GPU_mem       loss  Instances       Size\n"
          ]
        },
        {
          "output_type": "stream",
          "name": "stderr",
          "text": [
            "       7/10         0G       0.12         16        640: 100%|██████████| 200/200 [18:15<00:00,  5.48s/it]\n",
            "               classes   top1_acc   top5_acc: 100%|██████████| 13/13 [00:51<00:00,  3.98s/it]"
          ]
        },
        {
          "output_type": "stream",
          "name": "stdout",
          "text": [
            "                   all          1          1\n",
            "\n",
            "      Epoch    GPU_mem       loss  Instances       Size\n"
          ]
        },
        {
          "output_type": "stream",
          "name": "stderr",
          "text": [
            "\n",
            "       8/10         0G     0.1188         16        640: 100%|██████████| 200/200 [18:49<00:00,  5.65s/it]\n",
            "               classes   top1_acc   top5_acc: 100%|██████████| 13/13 [00:49<00:00,  3.83s/it]"
          ]
        },
        {
          "output_type": "stream",
          "name": "stdout",
          "text": [
            "                   all      0.993          1\n",
            "\n",
            "      Epoch    GPU_mem       loss  Instances       Size\n"
          ]
        },
        {
          "output_type": "stream",
          "name": "stderr",
          "text": [
            "\n",
            "       9/10         0G     0.1047         16        640: 100%|██████████| 200/200 [18:36<00:00,  5.58s/it]\n",
            "               classes   top1_acc   top5_acc: 100%|██████████| 13/13 [00:52<00:00,  4.01s/it]"
          ]
        },
        {
          "output_type": "stream",
          "name": "stdout",
          "text": [
            "                   all          1          1\n",
            "\n",
            "      Epoch    GPU_mem       loss  Instances       Size\n"
          ]
        },
        {
          "output_type": "stream",
          "name": "stderr",
          "text": [
            "\n",
            "      10/10         0G    0.09487         16        640: 100%|██████████| 200/200 [18:31<00:00,  5.56s/it]\n",
            "               classes   top1_acc   top5_acc: 100%|██████████| 13/13 [00:47<00:00,  3.63s/it]"
          ]
        },
        {
          "output_type": "stream",
          "name": "stdout",
          "text": [
            "                   all          1          1\n",
            "\n",
            "10 epochs completed in 3.252 hours.\n",
            "Optimizer stripped from runs/classify/train2/weights/last.pt, 3.0MB\n"
          ]
        },
        {
          "output_type": "stream",
          "name": "stderr",
          "text": [
            "\n"
          ]
        },
        {
          "output_type": "stream",
          "name": "stdout",
          "text": [
            "Optimizer stripped from runs/classify/train2/weights/best.pt, 3.0MB\n",
            "\n",
            "Validating runs/classify/train2/weights/best.pt...\n",
            "Ultralytics 8.3.96 🚀 Python-3.11.11 torch-2.0.1+cu117 CPU (Intel Xeon 2.20GHz)\n",
            "YOLOv8n-cls summary (fused): 30 layers, 1,437,442 parameters, 0 gradients, 3.3 GFLOPs\n",
            "\u001b[34m\u001b[1mtrain:\u001b[0m /content/yolo_data/train... found 3200 images in 2 classes ✅ \n",
            "\u001b[34m\u001b[1mval:\u001b[0m /content/yolo_data/val... found 400 images in 2 classes ✅ \n",
            "\u001b[34m\u001b[1mtest:\u001b[0m /content/yolo_data/test... found 400 images in 2 classes ✅ \n"
          ]
        },
        {
          "output_type": "stream",
          "name": "stderr",
          "text": [
            "               classes   top1_acc   top5_acc: 100%|██████████| 13/13 [00:43<00:00,  3.33s/it]\n"
          ]
        },
        {
          "output_type": "stream",
          "name": "stdout",
          "text": [
            "                   all          1          1\n",
            "Speed: 0.0ms preprocess, 95.2ms inference, 0.0ms loss, 0.0ms postprocess per image\n",
            "Results saved to \u001b[1mruns/classify/train2\u001b[0m\n",
            "Ultralytics 8.3.96 🚀 Python-3.11.11 torch-2.0.1+cu117 CPU (Intel Xeon 2.20GHz)\n",
            "YOLOv8n-cls summary (fused): 30 layers, 1,437,442 parameters, 0 gradients, 3.3 GFLOPs\n",
            "\u001b[34m\u001b[1mtrain:\u001b[0m /content/yolo_data/train... found 3200 images in 2 classes ✅ \n",
            "\u001b[34m\u001b[1mval:\u001b[0m /content/yolo_data/val... found 400 images in 2 classes ✅ \n",
            "\u001b[34m\u001b[1mtest:\u001b[0m /content/yolo_data/test... found 400 images in 2 classes ✅ \n"
          ]
        },
        {
          "output_type": "stream",
          "name": "stderr",
          "text": [
            "\u001b[34m\u001b[1mval: \u001b[0mScanning /content/yolo_data/val... 400 images, 0 corrupt: 100%|██████████| 400/400 [00:00<?, ?it/s]\n",
            "               classes   top1_acc   top5_acc: 100%|██████████| 25/25 [00:37<00:00,  1.51s/it]\n"
          ]
        },
        {
          "output_type": "stream",
          "name": "stdout",
          "text": [
            "                   all          1          1\n",
            "Speed: 0.0ms preprocess, 81.5ms inference, 0.0ms loss, 0.0ms postprocess per image\n",
            "Results saved to \u001b[1mruns/classify/train22\u001b[0m\n",
            "ultralytics.utils.metrics.ClassifyMetrics object with attributes:\n",
            "\n",
            "confusion_matrix: <ultralytics.utils.metrics.ConfusionMatrix object at 0x7a293f1fc650>\n",
            "curves: []\n",
            "curves_results: []\n",
            "fitness: 1.0\n",
            "keys: ['metrics/accuracy_top1', 'metrics/accuracy_top5']\n",
            "results_dict: {'metrics/accuracy_top1': 1.0, 'metrics/accuracy_top5': 1.0, 'fitness': 1.0}\n",
            "save_dir: PosixPath('runs/classify/train22')\n",
            "speed: {'preprocess': 0.0012428449963408639, 'inference': 81.47799618001045, 'loss': 7.165750048443442e-05, 'postprocess': 0.00024414751351287123}\n",
            "task: 'classify'\n",
            "top1: 1.0\n",
            "top5: 1.0\n"
          ]
        },
        {
          "output_type": "error",
          "ename": "KeyError",
          "evalue": "'metrics/precision(B)'",
          "traceback": [
            "\u001b[0;31m---------------------------------------------------------------------------\u001b[0m",
            "\u001b[0;31mKeyError\u001b[0m                                  Traceback (most recent call last)",
            "\u001b[0;32m<ipython-input-4-4ffb9521e7a3>\u001b[0m in \u001b[0;36m<cell line: 0>\u001b[0;34m()\u001b[0m\n\u001b[1;32m     60\u001b[0m \u001b[0;34m\u001b[0m\u001b[0m\n\u001b[1;32m     61\u001b[0m \u001b[0;31m# Print and extract key metrics\u001b[0m\u001b[0;34m\u001b[0m\u001b[0;34m\u001b[0m\u001b[0m\n\u001b[0;32m---> 62\u001b[0;31m \u001b[0mprecision\u001b[0m \u001b[0;34m=\u001b[0m \u001b[0mmetrics\u001b[0m\u001b[0;34m.\u001b[0m\u001b[0mresults_dict\u001b[0m\u001b[0;34m[\u001b[0m\u001b[0;34m'metrics/precision(B)'\u001b[0m\u001b[0;34m]\u001b[0m\u001b[0;34m\u001b[0m\u001b[0;34m\u001b[0m\u001b[0m\n\u001b[0m\u001b[1;32m     63\u001b[0m \u001b[0mrecall\u001b[0m \u001b[0;34m=\u001b[0m \u001b[0mmetrics\u001b[0m\u001b[0;34m.\u001b[0m\u001b[0mresults_dict\u001b[0m\u001b[0;34m[\u001b[0m\u001b[0;34m'metrics/recall(B)'\u001b[0m\u001b[0;34m]\u001b[0m\u001b[0;34m\u001b[0m\u001b[0;34m\u001b[0m\u001b[0m\n\u001b[1;32m     64\u001b[0m \u001b[0mmap50\u001b[0m \u001b[0;34m=\u001b[0m \u001b[0mmetrics\u001b[0m\u001b[0;34m.\u001b[0m\u001b[0mresults_dict\u001b[0m\u001b[0;34m[\u001b[0m\u001b[0;34m'metrics/mAP50(B)'\u001b[0m\u001b[0;34m]\u001b[0m\u001b[0;34m\u001b[0m\u001b[0;34m\u001b[0m\u001b[0m\n",
            "\u001b[0;31mKeyError\u001b[0m: 'metrics/precision(B)'"
          ]
        }
      ]
    },
    {
      "cell_type": "code",
      "source": [
        "import os\n",
        "import glob\n",
        "from sklearn.metrics import classification_report, confusion_matrix\n",
        "import seaborn as sns\n",
        "import matplotlib.pyplot as plt\n",
        "import numpy as np\n",
        "\n",
        "# --- STEP 1: Get all test images and true labels ---\n",
        "test_image_paths = glob.glob(\"/content/yolo_data/test/*/*.png\")  # or .png\n",
        "true_labels = [path.split(\"/\")[-2] for path in test_image_paths]  # folder name is label\n",
        "\n",
        "# Map class names to indices\n",
        "class_names = sorted(list(set(true_labels)))\n",
        "class_to_idx = {name: idx for idx, name in enumerate(class_names)}\n",
        "idx_to_class = {idx: name for name, idx in class_to_idx.items()}\n",
        "\n",
        "# --- STEP 2: Run predictions on all test images ---\n",
        "predicted_labels = []\n",
        "\n",
        "print(f\"🔍 Predicting on {len(test_image_paths)} test images...\")\n",
        "\n",
        "for path in test_image_paths:\n",
        "    result = model.predict(path, verbose=False)[0]\n",
        "    pred_class = result.names[result.probs.top1]\n",
        "    predicted_labels.append(pred_class)\n",
        "\n",
        "# --- STEP 3: Evaluate ---\n",
        "true_indices = [class_to_idx[label] for label in true_labels]\n",
        "predicted_indices = [class_to_idx[label] for label in predicted_labels]\n",
        "\n",
        "# Confusion Matrix\n",
        "cm = confusion_matrix(true_indices, predicted_indices)\n",
        "plt.figure(figsize=(6, 5))\n",
        "sns.heatmap(cm, annot=True, fmt=\"d\", xticklabels=class_names, yticklabels=class_names, cmap=\"Blues\")\n",
        "plt.xlabel(\"Predicted\")\n",
        "plt.ylabel(\"True\")\n",
        "plt.title(\"Confusion Matrix (Test Set)\")\n",
        "plt.show()\n",
        "\n",
        "# Classification Report\n",
        "report = classification_report(true_indices, predicted_indices, target_names=class_names)\n",
        "print(\"Classification Report (Test Set):\\n\")\n",
        "print(report)\n",
        "\n",
        "# Accuracy\n",
        "correct = np.sum(np.array(true_indices) == np.array(predicted_indices))\n",
        "total = len(true_indices)\n",
        "accuracy = correct / total\n",
        "print(f\"Test Set Accuracy: {accuracy * 100:.2f}%\")\n"
      ],
      "metadata": {
        "colab": {
          "base_uri": "https://localhost:8080/",
          "height": 713
        },
        "id": "6qggZlYnJBR7",
        "outputId": "ceb7ec13-b0a3-4d1e-c3ee-d0988b121904"
      },
      "execution_count": null,
      "outputs": [
        {
          "output_type": "stream",
          "name": "stdout",
          "text": [
            "🔍 Predicting on 400 test images...\n"
          ]
        },
        {
          "output_type": "display_data",
          "data": {
            "text/plain": [
              "<Figure size 600x500 with 2 Axes>"
            ],
            "image/png": "[encoded data removed]"
          },
          "metadata": {}
        },
        {
          "output_type": "stream",
          "name": "stdout",
          "text": [
            "📝 Classification Report (Test Set):\n",
            "\n",
            "              precision    recall  f1-score   support\n",
            "\n",
            "     no-ship       0.99      0.99      0.99       300\n",
            "        ship       0.96      0.96      0.96       100\n",
            "\n",
            "    accuracy                           0.98       400\n",
            "   macro avg       0.97      0.97      0.97       400\n",
            "weighted avg       0.98      0.98      0.98       400\n",
            "\n",
            "✅ Test Set Accuracy: 98.00%\n"
          ]
        }
      ]
    }
  ]
}