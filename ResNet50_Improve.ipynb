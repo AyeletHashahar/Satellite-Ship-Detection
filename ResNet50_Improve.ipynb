{
  "cells": [
    {
      "cell_type": "code",
      "source": [
        "import os\n",
        "import cv2\n",
        "import random\n",
        "import numpy as np\n",
        "import pandas as pd\n",
        "import matplotlib.pyplot as plt\n",
        "import seaborn as sns\n",
        "import torch\n",
        "import torch.nn as nn\n",
        "import torch.optim as optim\n",
        "from torch.utils.data import Dataset, DataLoader\n",
        "from torchvision.transforms import Compose, ToTensor, Resize, RandomHorizontalFlip, RandomRotation, ColorJitter, Normalize\n",
        "from torchvision.models import resnet50, ResNet50_Weights\n",
        "from sklearn.metrics import confusion_matrix, classification_report\n",
        "from tqdm import tqdm\n",
        "import zipfile\n"
      ],
      "metadata": {
        "id": "Pc5W-FwKpBNB"
      },
      "id": "Pc5W-FwKpBNB",
      "execution_count": null,
      "outputs": []
    },
    {
      "cell_type": "code",
      "execution_count": null,
      "id": "e4acde51-0e90-4ae3-b2df-4eb3fe5ac6b7",
      "metadata": {
        "id": "e4acde51-0e90-4ae3-b2df-4eb3fe5ac6b7",
        "outputId": "9af41eac-c36a-4c64-f3db-bb3dcbb543a6"
      },
      "outputs": [
        {
          "name": "stdout",
          "output_type": "stream",
          "text": [
            "Using device: cuda\n",
            "Extracting zip file: /sise/home/daniel7/BigData/archive.zip to extracted_ship_data\n",
            "Extraction complete: extracted_ship_data\n",
            "Preparing dataset...\n",
            "Ship directory: extracted_ship_data/archive/ship\n",
            "No-ship directory: extracted_ship_data/archive/no-ship\n",
            "Found 1000 ship images and 2858 no-ship images\n",
            "Training images: 2700, Validation images: 771, Test images: 387\n",
            "Creating ResNet model...\n",
            "Starting training...\n",
            "\n",
            "Epoch 1/100\n"
          ]
        },
        {
          "name": "stderr",
          "output_type": "stream",
          "text": [
            "Training: 100%|██████████| 169/169 [02:20<00:00,  1.20it/s]\n",
            "Validation: 100%|██████████| 49/49 [00:24<00:00,  2.02it/s]\n"
          ]
        },
        {
          "name": "stdout",
          "output_type": "stream",
          "text": [
            "Train Loss: 0.4810, Train Acc: 77.52%\n",
            "Val Loss: 0.4943, Val Acc: 78.21%\n",
            "Learning Rate: 0.009998\n",
            "Saved best model checkpoint.\n",
            "\n",
            "Epoch 2/100\n"
          ]
        },
        {
          "name": "stderr",
          "output_type": "stream",
          "text": [
            "Training: 100%|██████████| 169/169 [01:41<00:00,  1.66it/s]\n",
            "Validation: 100%|██████████| 49/49 [00:11<00:00,  4.33it/s]\n"
          ]
        },
        {
          "name": "stdout",
          "output_type": "stream",
          "text": [
            "Train Loss: 0.3559, Train Acc: 81.48%\n",
            "Val Loss: 0.3685, Val Acc: 79.77%\n",
            "Learning Rate: 0.009990\n",
            "Saved best model checkpoint.\n",
            "\n",
            "Epoch 3/100\n"
          ]
        },
        {
          "name": "stderr",
          "output_type": "stream",
          "text": [
            "Training: 100%|██████████| 169/169 [01:38<00:00,  1.72it/s]\n",
            "Validation: 100%|██████████| 49/49 [00:11<00:00,  4.43it/s]\n"
          ]
        },
        {
          "name": "stdout",
          "output_type": "stream",
          "text": [
            "Train Loss: 0.3101, Train Acc: 82.26%\n",
            "Val Loss: 0.1325, Val Acc: 95.07%\n",
            "Learning Rate: 0.009978\n",
            "Saved best model checkpoint.\n",
            "\n",
            "Epoch 4/100\n"
          ]
        },
        {
          "name": "stderr",
          "output_type": "stream",
          "text": [
            "Training: 100%|██████████| 169/169 [01:35<00:00,  1.77it/s]\n",
            "Validation: 100%|██████████| 49/49 [00:10<00:00,  4.68it/s]\n"
          ]
        },
        {
          "name": "stdout",
          "output_type": "stream",
          "text": [
            "Train Loss: 0.2650, Train Acc: 86.74%\n",
            "Val Loss: 0.1254, Val Acc: 96.37%\n",
            "Learning Rate: 0.009961\n",
            "Saved best model checkpoint.\n",
            "\n",
            "Epoch 5/100\n"
          ]
        },
        {
          "name": "stderr",
          "output_type": "stream",
          "text": [
            "Training: 100%|██████████| 169/169 [01:40<00:00,  1.68it/s]\n",
            "Validation: 100%|██████████| 49/49 [00:11<00:00,  4.34it/s]\n"
          ]
        },
        {
          "name": "stdout",
          "output_type": "stream",
          "text": [
            "Train Loss: 0.2372, Train Acc: 86.93%\n",
            "Val Loss: 0.1433, Val Acc: 95.07%\n",
            "Learning Rate: 0.009938\n",
            "\n",
            "Epoch 6/100\n"
          ]
        },
        {
          "name": "stderr",
          "output_type": "stream",
          "text": [
            "Training: 100%|██████████| 169/169 [01:37<00:00,  1.73it/s]\n",
            "Validation: 100%|██████████| 49/49 [00:10<00:00,  4.64it/s]\n"
          ]
        },
        {
          "name": "stdout",
          "output_type": "stream",
          "text": [
            "Train Loss: 0.1846, Train Acc: 86.26%\n",
            "Val Loss: 0.1301, Val Acc: 96.63%\n",
            "Learning Rate: 0.009911\n",
            "\n",
            "Epoch 7/100\n"
          ]
        },
        {
          "name": "stderr",
          "output_type": "stream",
          "text": [
            "Training: 100%|██████████| 169/169 [01:42<00:00,  1.65it/s]\n",
            "Validation: 100%|██████████| 49/49 [00:10<00:00,  4.63it/s]\n"
          ]
        },
        {
          "name": "stdout",
          "output_type": "stream",
          "text": [
            "Train Loss: 0.2058, Train Acc: 87.56%\n",
            "Val Loss: 0.0888, Val Acc: 97.28%\n",
            "Learning Rate: 0.009880\n",
            "Saved best model checkpoint.\n",
            "\n",
            "Epoch 8/100\n"
          ]
        },
        {
          "name": "stderr",
          "output_type": "stream",
          "text": [
            "Training: 100%|██████████| 169/169 [01:35<00:00,  1.76it/s]\n",
            "Validation: 100%|██████████| 49/49 [00:10<00:00,  4.57it/s]\n"
          ]
        },
        {
          "name": "stdout",
          "output_type": "stream",
          "text": [
            "Train Loss: 0.1676, Train Acc: 87.11%\n",
            "Val Loss: 0.0966, Val Acc: 96.89%\n",
            "Learning Rate: 0.009843\n",
            "\n",
            "Epoch 9/100\n"
          ]
        },
        {
          "name": "stderr",
          "output_type": "stream",
          "text": [
            "Training: 100%|██████████| 169/169 [01:35<00:00,  1.77it/s]\n",
            "Validation: 100%|██████████| 49/49 [00:11<00:00,  4.31it/s]\n"
          ]
        },
        {
          "name": "stdout",
          "output_type": "stream",
          "text": [
            "Train Loss: 0.1784, Train Acc: 87.78%\n",
            "Val Loss: 0.0857, Val Acc: 96.76%\n",
            "Learning Rate: 0.009801\n",
            "Saved best model checkpoint.\n",
            "\n",
            "Epoch 10/100\n"
          ]
        },
        {
          "name": "stderr",
          "output_type": "stream",
          "text": [
            "Training: 100%|██████████| 169/169 [01:37<00:00,  1.74it/s]\n",
            "Validation: 100%|██████████| 49/49 [00:11<00:00,  4.28it/s]\n"
          ]
        },
        {
          "name": "stdout",
          "output_type": "stream",
          "text": [
            "Train Loss: 0.1470, Train Acc: 89.78%\n",
            "Val Loss: 0.0788, Val Acc: 97.41%\n",
            "Learning Rate: 0.009755\n",
            "Saved best model checkpoint.\n",
            "\n",
            "Epoch 11/100\n"
          ]
        },
        {
          "name": "stderr",
          "output_type": "stream",
          "text": [
            "Training: 100%|██████████| 169/169 [01:38<00:00,  1.72it/s]\n",
            "Validation: 100%|██████████| 49/49 [00:11<00:00,  4.36it/s]\n"
          ]
        },
        {
          "name": "stdout",
          "output_type": "stream",
          "text": [
            "Train Loss: 0.1590, Train Acc: 88.63%\n",
            "Val Loss: 0.0580, Val Acc: 97.80%\n",
            "Learning Rate: 0.009704\n",
            "Saved best model checkpoint.\n",
            "\n",
            "Epoch 12/100\n"
          ]
        },
        {
          "name": "stderr",
          "output_type": "stream",
          "text": [
            "Training: 100%|██████████| 169/169 [01:37<00:00,  1.73it/s]\n",
            "Validation: 100%|██████████| 49/49 [00:10<00:00,  4.46it/s]\n"
          ]
        },
        {
          "name": "stdout",
          "output_type": "stream",
          "text": [
            "Train Loss: 0.1366, Train Acc: 90.59%\n",
            "Val Loss: 0.0804, Val Acc: 98.05%\n",
            "Learning Rate: 0.009649\n",
            "\n",
            "Epoch 13/100\n"
          ]
        },
        {
          "name": "stderr",
          "output_type": "stream",
          "text": [
            "Training: 100%|██████████| 169/169 [01:37<00:00,  1.73it/s]\n",
            "Validation: 100%|██████████| 49/49 [00:10<00:00,  4.50it/s]\n"
          ]
        },
        {
          "name": "stdout",
          "output_type": "stream",
          "text": [
            "Train Loss: 0.1317, Train Acc: 90.15%\n",
            "Val Loss: 0.0545, Val Acc: 97.41%\n",
            "Learning Rate: 0.009589\n",
            "Saved best model checkpoint.\n",
            "\n",
            "Epoch 14/100\n"
          ]
        },
        {
          "name": "stderr",
          "output_type": "stream",
          "text": [
            "Training: 100%|██████████| 169/169 [01:36<00:00,  1.76it/s]\n",
            "Validation: 100%|██████████| 49/49 [00:10<00:00,  4.51it/s]\n"
          ]
        },
        {
          "name": "stdout",
          "output_type": "stream",
          "text": [
            "Train Loss: 0.1255, Train Acc: 88.89%\n",
            "Val Loss: 0.0534, Val Acc: 98.70%\n",
            "Learning Rate: 0.009524\n",
            "Saved best model checkpoint.\n",
            "\n",
            "Epoch 15/100\n"
          ]
        },
        {
          "name": "stderr",
          "output_type": "stream",
          "text": [
            "Training: 100%|██████████| 169/169 [01:33<00:00,  1.81it/s]\n",
            "Validation: 100%|██████████| 49/49 [00:11<00:00,  4.44it/s]\n"
          ]
        },
        {
          "name": "stdout",
          "output_type": "stream",
          "text": [
            "Train Loss: 0.1498, Train Acc: 89.00%\n",
            "Val Loss: 0.0735, Val Acc: 97.80%\n",
            "Learning Rate: 0.009455\n",
            "\n",
            "Epoch 16/100\n"
          ]
        },
        {
          "name": "stderr",
          "output_type": "stream",
          "text": [
            "Training: 100%|██████████| 169/169 [01:39<00:00,  1.70it/s]\n",
            "Validation: 100%|██████████| 49/49 [00:10<00:00,  4.46it/s]\n"
          ]
        },
        {
          "name": "stdout",
          "output_type": "stream",
          "text": [
            "Train Loss: 0.0919, Train Acc: 92.04%\n",
            "Val Loss: 0.0313, Val Acc: 99.09%\n",
            "Learning Rate: 0.009382\n",
            "Saved best model checkpoint.\n",
            "\n",
            "Epoch 17/100\n"
          ]
        },
        {
          "name": "stderr",
          "output_type": "stream",
          "text": [
            "Training: 100%|██████████| 169/169 [01:35<00:00,  1.77it/s]\n",
            "Validation: 100%|██████████| 49/49 [00:11<00:00,  4.38it/s]\n"
          ]
        },
        {
          "name": "stdout",
          "output_type": "stream",
          "text": [
            "Train Loss: 0.1088, Train Acc: 89.63%\n",
            "Val Loss: 0.0370, Val Acc: 98.96%\n",
            "Learning Rate: 0.009304\n",
            "\n",
            "Epoch 18/100\n"
          ]
        },
        {
          "name": "stderr",
          "output_type": "stream",
          "text": [
            "Training: 100%|██████████| 169/169 [01:36<00:00,  1.75it/s]\n",
            "Validation: 100%|██████████| 49/49 [00:10<00:00,  4.50it/s]\n"
          ]
        },
        {
          "name": "stdout",
          "output_type": "stream",
          "text": [
            "Train Loss: 0.1205, Train Acc: 89.74%\n",
            "Val Loss: 0.0449, Val Acc: 99.09%\n",
            "Learning Rate: 0.009222\n",
            "\n",
            "Epoch 19/100\n"
          ]
        },
        {
          "name": "stderr",
          "output_type": "stream",
          "text": [
            "Training: 100%|██████████| 169/169 [01:38<00:00,  1.71it/s]\n",
            "Validation: 100%|██████████| 49/49 [00:10<00:00,  4.48it/s]\n"
          ]
        },
        {
          "name": "stdout",
          "output_type": "stream",
          "text": [
            "Train Loss: 0.1027, Train Acc: 90.81%\n",
            "Val Loss: 0.0385, Val Acc: 98.57%\n",
            "Learning Rate: 0.009135\n",
            "\n",
            "Epoch 20/100\n"
          ]
        },
        {
          "name": "stderr",
          "output_type": "stream",
          "text": [
            "Training: 100%|██████████| 169/169 [01:42<00:00,  1.64it/s]\n",
            "Validation: 100%|██████████| 49/49 [00:12<00:00,  3.93it/s]\n"
          ]
        },
        {
          "name": "stdout",
          "output_type": "stream",
          "text": [
            "Train Loss: 0.1226, Train Acc: 90.48%\n",
            "Val Loss: 0.0399, Val Acc: 98.31%\n",
            "Learning Rate: 0.009045\n",
            "\n",
            "Epoch 21/100\n"
          ]
        },
        {
          "name": "stderr",
          "output_type": "stream",
          "text": [
            "Training: 100%|██████████| 169/169 [01:36<00:00,  1.75it/s]\n",
            "Validation: 100%|██████████| 49/49 [00:10<00:00,  4.51it/s]\n"
          ]
        },
        {
          "name": "stdout",
          "output_type": "stream",
          "text": [
            "Train Loss: 0.1129, Train Acc: 90.15%\n",
            "Val Loss: 0.0289, Val Acc: 99.09%\n",
            "Learning Rate: 0.008951\n",
            "Saved best model checkpoint.\n",
            "\n",
            "Epoch 22/100\n"
          ]
        },
        {
          "name": "stderr",
          "output_type": "stream",
          "text": [
            "Training: 100%|██████████| 169/169 [01:37<00:00,  1.74it/s]\n",
            "Validation: 100%|██████████| 49/49 [00:11<00:00,  4.41it/s]\n"
          ]
        },
        {
          "name": "stdout",
          "output_type": "stream",
          "text": [
            "Train Loss: 0.1180, Train Acc: 89.07%\n",
            "Val Loss: 0.0317, Val Acc: 98.70%\n",
            "Learning Rate: 0.008853\n",
            "\n",
            "Epoch 23/100\n"
          ]
        },
        {
          "name": "stderr",
          "output_type": "stream",
          "text": [
            "Training: 100%|██████████| 169/169 [01:36<00:00,  1.75it/s]\n",
            "Validation: 100%|██████████| 49/49 [00:11<00:00,  4.33it/s]\n"
          ]
        },
        {
          "name": "stdout",
          "output_type": "stream",
          "text": [
            "Train Loss: 0.1024, Train Acc: 91.15%\n",
            "Val Loss: 0.0395, Val Acc: 98.44%\n",
            "Learning Rate: 0.008751\n",
            "\n",
            "Epoch 24/100\n"
          ]
        },
        {
          "name": "stderr",
          "output_type": "stream",
          "text": [
            "Training: 100%|██████████| 169/169 [01:33<00:00,  1.81it/s]\n",
            "Validation: 100%|██████████| 49/49 [00:10<00:00,  4.55it/s]\n"
          ]
        },
        {
          "name": "stdout",
          "output_type": "stream",
          "text": [
            "Train Loss: 0.0868, Train Acc: 90.93%\n",
            "Val Loss: 0.0386, Val Acc: 98.96%\n",
            "Learning Rate: 0.008645\n",
            "\n",
            "Epoch 25/100\n"
          ]
        },
        {
          "name": "stderr",
          "output_type": "stream",
          "text": [
            "Training: 100%|██████████| 169/169 [01:36<00:00,  1.75it/s]\n",
            "Validation: 100%|██████████| 49/49 [00:11<00:00,  4.45it/s]\n"
          ]
        },
        {
          "name": "stdout",
          "output_type": "stream",
          "text": [
            "Train Loss: 0.1072, Train Acc: 90.30%\n",
            "Val Loss: 0.0581, Val Acc: 98.31%\n",
            "Learning Rate: 0.008536\n",
            "\n",
            "Epoch 26/100\n"
          ]
        },
        {
          "name": "stderr",
          "output_type": "stream",
          "text": [
            "Training: 100%|██████████| 169/169 [01:42<00:00,  1.64it/s]\n",
            "Validation: 100%|██████████| 49/49 [00:11<00:00,  4.08it/s]\n"
          ]
        },
        {
          "name": "stdout",
          "output_type": "stream",
          "text": [
            "Train Loss: 0.0799, Train Acc: 91.78%\n",
            "Val Loss: 0.0343, Val Acc: 98.83%\n",
            "Learning Rate: 0.008423\n",
            "\n",
            "Epoch 27/100\n"
          ]
        },
        {
          "name": "stderr",
          "output_type": "stream",
          "text": [
            "Training: 100%|██████████| 169/169 [01:38<00:00,  1.71it/s]\n",
            "Validation: 100%|██████████| 49/49 [00:10<00:00,  4.50it/s]\n"
          ]
        },
        {
          "name": "stdout",
          "output_type": "stream",
          "text": [
            "Train Loss: 0.0971, Train Acc: 90.07%\n",
            "Val Loss: 0.0518, Val Acc: 98.31%\n",
            "Learning Rate: 0.008307\n",
            "\n",
            "Epoch 28/100\n"
          ]
        },
        {
          "name": "stderr",
          "output_type": "stream",
          "text": [
            "Training: 100%|██████████| 169/169 [01:37<00:00,  1.74it/s]\n",
            "Validation: 100%|██████████| 49/49 [00:11<00:00,  4.37it/s]\n"
          ]
        },
        {
          "name": "stdout",
          "output_type": "stream",
          "text": [
            "Train Loss: 0.0996, Train Acc: 89.37%\n",
            "Val Loss: 0.0321, Val Acc: 98.96%\n",
            "Learning Rate: 0.008187\n",
            "\n",
            "Epoch 29/100\n"
          ]
        },
        {
          "name": "stderr",
          "output_type": "stream",
          "text": [
            "Training: 100%|██████████| 169/169 [01:35<00:00,  1.78it/s]\n",
            "Validation: 100%|██████████| 49/49 [00:11<00:00,  4.42it/s]\n"
          ]
        },
        {
          "name": "stdout",
          "output_type": "stream",
          "text": [
            "Train Loss: 0.0852, Train Acc: 90.26%\n",
            "Val Loss: 0.0314, Val Acc: 98.96%\n",
            "Learning Rate: 0.008065\n",
            "\n",
            "Epoch 30/100\n"
          ]
        },
        {
          "name": "stderr",
          "output_type": "stream",
          "text": [
            "Training: 100%|██████████| 169/169 [01:35<00:00,  1.77it/s]\n",
            "Validation: 100%|██████████| 49/49 [00:11<00:00,  4.45it/s]\n"
          ]
        },
        {
          "name": "stdout",
          "output_type": "stream",
          "text": [
            "Train Loss: 0.1166, Train Acc: 89.89%\n",
            "Val Loss: 0.0422, Val Acc: 98.83%\n",
            "Learning Rate: 0.007939\n",
            "\n",
            "Epoch 31/100\n"
          ]
        },
        {
          "name": "stderr",
          "output_type": "stream",
          "text": [
            "Training: 100%|██████████| 169/169 [01:34<00:00,  1.80it/s]\n",
            "Validation: 100%|██████████| 49/49 [00:11<00:00,  4.13it/s]\n"
          ]
        },
        {
          "name": "stdout",
          "output_type": "stream",
          "text": [
            "Train Loss: 0.1003, Train Acc: 89.30%\n",
            "Val Loss: 0.0257, Val Acc: 99.35%\n",
            "Learning Rate: 0.007810\n",
            "Saved best model checkpoint.\n",
            "\n",
            "Epoch 32/100\n"
          ]
        },
        {
          "name": "stderr",
          "output_type": "stream",
          "text": [
            "Training: 100%|██████████| 169/169 [01:35<00:00,  1.77it/s]\n",
            "Validation: 100%|██████████| 49/49 [00:10<00:00,  4.55it/s]\n"
          ]
        },
        {
          "name": "stdout",
          "output_type": "stream",
          "text": [
            "Train Loss: 0.0755, Train Acc: 91.78%\n",
            "Val Loss: 0.0306, Val Acc: 99.09%\n",
            "Learning Rate: 0.007679\n",
            "\n",
            "Epoch 33/100\n"
          ]
        },
        {
          "name": "stderr",
          "output_type": "stream",
          "text": [
            "Training: 100%|██████████| 169/169 [01:40<00:00,  1.69it/s]\n",
            "Validation: 100%|██████████| 49/49 [00:10<00:00,  4.59it/s]\n"
          ]
        },
        {
          "name": "stdout",
          "output_type": "stream",
          "text": [
            "Train Loss: 0.0816, Train Acc: 88.89%\n",
            "Val Loss: 0.0401, Val Acc: 99.22%\n",
            "Learning Rate: 0.007545\n",
            "\n",
            "Epoch 34/100\n"
          ]
        },
        {
          "name": "stderr",
          "output_type": "stream",
          "text": [
            "Training: 100%|██████████| 169/169 [01:37<00:00,  1.73it/s]\n",
            "Validation: 100%|██████████| 49/49 [00:10<00:00,  4.62it/s]\n"
          ]
        },
        {
          "name": "stdout",
          "output_type": "stream",
          "text": [
            "Train Loss: 0.1122, Train Acc: 90.70%\n",
            "Val Loss: 0.0268, Val Acc: 99.35%\n",
            "Learning Rate: 0.007409\n",
            "\n",
            "Epoch 35/100\n"
          ]
        },
        {
          "name": "stderr",
          "output_type": "stream",
          "text": [
            "Training: 100%|██████████| 169/169 [01:38<00:00,  1.71it/s]\n",
            "Validation: 100%|██████████| 49/49 [00:11<00:00,  4.29it/s]\n"
          ]
        },
        {
          "name": "stdout",
          "output_type": "stream",
          "text": [
            "Train Loss: 0.0880, Train Acc: 90.07%\n",
            "Val Loss: 0.0237, Val Acc: 99.09%\n",
            "Learning Rate: 0.007270\n",
            "Saved best model checkpoint.\n",
            "\n",
            "Epoch 36/100\n"
          ]
        },
        {
          "name": "stderr",
          "output_type": "stream",
          "text": [
            "Training: 100%|██████████| 169/169 [01:43<00:00,  1.64it/s]\n",
            "Validation: 100%|██████████| 49/49 [00:10<00:00,  4.48it/s]\n"
          ]
        },
        {
          "name": "stdout",
          "output_type": "stream",
          "text": [
            "Train Loss: 0.0962, Train Acc: 88.85%\n",
            "Val Loss: 0.0271, Val Acc: 99.74%\n",
            "Learning Rate: 0.007129\n",
            "\n",
            "Epoch 37/100\n"
          ]
        },
        {
          "name": "stderr",
          "output_type": "stream",
          "text": [
            "Training: 100%|██████████| 169/169 [01:41<00:00,  1.67it/s]\n",
            "Validation: 100%|██████████| 49/49 [00:11<00:00,  4.39it/s]\n"
          ]
        },
        {
          "name": "stdout",
          "output_type": "stream",
          "text": [
            "Train Loss: 0.0895, Train Acc: 90.26%\n",
            "Val Loss: 0.0277, Val Acc: 98.96%\n",
            "Learning Rate: 0.006986\n",
            "\n",
            "Epoch 38/100\n"
          ]
        },
        {
          "name": "stderr",
          "output_type": "stream",
          "text": [
            "Training: 100%|██████████| 169/169 [01:39<00:00,  1.71it/s]\n",
            "Validation: 100%|██████████| 49/49 [00:10<00:00,  4.79it/s]\n"
          ]
        },
        {
          "name": "stdout",
          "output_type": "stream",
          "text": [
            "Train Loss: 0.0658, Train Acc: 90.37%\n",
            "Val Loss: 0.0250, Val Acc: 99.22%\n",
            "Learning Rate: 0.006841\n",
            "\n",
            "Epoch 39/100\n"
          ]
        },
        {
          "name": "stderr",
          "output_type": "stream",
          "text": [
            "Training: 100%|██████████| 169/169 [01:36<00:00,  1.75it/s]\n",
            "Validation: 100%|██████████| 49/49 [00:10<00:00,  4.48it/s]\n"
          ]
        },
        {
          "name": "stdout",
          "output_type": "stream",
          "text": [
            "Train Loss: 0.0671, Train Acc: 90.04%\n",
            "Val Loss: 0.0236, Val Acc: 99.48%\n",
            "Learning Rate: 0.006694\n",
            "Saved best model checkpoint.\n",
            "\n",
            "Epoch 40/100\n"
          ]
        },
        {
          "name": "stderr",
          "output_type": "stream",
          "text": [
            "Training: 100%|██████████| 169/169 [01:36<00:00,  1.76it/s]\n",
            "Validation: 100%|██████████| 49/49 [00:10<00:00,  4.76it/s]\n"
          ]
        },
        {
          "name": "stdout",
          "output_type": "stream",
          "text": [
            "Train Loss: 0.0818, Train Acc: 90.22%\n",
            "Val Loss: 0.0238, Val Acc: 99.09%\n",
            "Learning Rate: 0.006545\n",
            "\n",
            "Epoch 41/100\n"
          ]
        },
        {
          "name": "stderr",
          "output_type": "stream",
          "text": [
            "Training: 100%|██████████| 169/169 [01:38<00:00,  1.71it/s]\n",
            "Validation: 100%|██████████| 49/49 [00:10<00:00,  4.61it/s]\n"
          ]
        },
        {
          "name": "stdout",
          "output_type": "stream",
          "text": [
            "Train Loss: 0.0836, Train Acc: 91.33%\n",
            "Val Loss: 0.0187, Val Acc: 99.48%\n",
            "Learning Rate: 0.006395\n",
            "Saved best model checkpoint.\n",
            "\n",
            "Epoch 42/100\n"
          ]
        },
        {
          "name": "stderr",
          "output_type": "stream",
          "text": [
            "Training: 100%|██████████| 169/169 [01:36<00:00,  1.75it/s]\n",
            "Validation: 100%|██████████| 49/49 [00:10<00:00,  4.51it/s]\n"
          ]
        },
        {
          "name": "stdout",
          "output_type": "stream",
          "text": [
            "Train Loss: 0.0541, Train Acc: 90.70%\n",
            "Val Loss: 0.0266, Val Acc: 98.96%\n",
            "Learning Rate: 0.006243\n",
            "\n",
            "Epoch 43/100\n"
          ]
        },
        {
          "name": "stderr",
          "output_type": "stream",
          "text": [
            "Training: 100%|██████████| 169/169 [01:35<00:00,  1.77it/s]\n",
            "Validation: 100%|██████████| 49/49 [00:10<00:00,  4.58it/s]\n"
          ]
        },
        {
          "name": "stdout",
          "output_type": "stream",
          "text": [
            "Train Loss: 0.0593, Train Acc: 89.30%\n",
            "Val Loss: 0.0228, Val Acc: 99.22%\n",
            "Learning Rate: 0.006091\n",
            "\n",
            "Epoch 44/100\n"
          ]
        },
        {
          "name": "stderr",
          "output_type": "stream",
          "text": [
            "Training: 100%|██████████| 169/169 [01:36<00:00,  1.76it/s]\n",
            "Validation: 100%|██████████| 49/49 [00:11<00:00,  4.45it/s]\n"
          ]
        },
        {
          "name": "stdout",
          "output_type": "stream",
          "text": [
            "Train Loss: 0.0759, Train Acc: 90.52%\n",
            "Val Loss: 0.0405, Val Acc: 99.09%\n",
            "Learning Rate: 0.005937\n",
            "\n",
            "Epoch 45/100\n"
          ]
        },
        {
          "name": "stderr",
          "output_type": "stream",
          "text": [
            "Training: 100%|██████████| 169/169 [01:37<00:00,  1.73it/s]\n",
            "Validation: 100%|██████████| 49/49 [00:10<00:00,  4.54it/s]\n"
          ]
        },
        {
          "name": "stdout",
          "output_type": "stream",
          "text": [
            "Train Loss: 0.0754, Train Acc: 90.63%\n",
            "Val Loss: 0.0217, Val Acc: 99.35%\n",
            "Learning Rate: 0.005782\n",
            "\n",
            "Epoch 46/100\n"
          ]
        },
        {
          "name": "stderr",
          "output_type": "stream",
          "text": [
            "Training: 100%|██████████| 169/169 [01:38<00:00,  1.72it/s]\n",
            "Validation: 100%|██████████| 49/49 [00:10<00:00,  4.48it/s]\n"
          ]
        },
        {
          "name": "stdout",
          "output_type": "stream",
          "text": [
            "Train Loss: 0.0706, Train Acc: 90.96%\n",
            "Val Loss: 0.0240, Val Acc: 99.48%\n",
            "Learning Rate: 0.005627\n",
            "\n",
            "Epoch 47/100\n"
          ]
        },
        {
          "name": "stderr",
          "output_type": "stream",
          "text": [
            "Training: 100%|██████████| 169/169 [01:40<00:00,  1.68it/s]\n",
            "Validation: 100%|██████████| 49/49 [00:11<00:00,  4.40it/s]\n"
          ]
        },
        {
          "name": "stdout",
          "output_type": "stream",
          "text": [
            "Train Loss: 0.0825, Train Acc: 91.56%\n",
            "Val Loss: 0.0365, Val Acc: 99.09%\n",
            "Learning Rate: 0.005471\n",
            "\n",
            "Epoch 48/100\n"
          ]
        },
        {
          "name": "stderr",
          "output_type": "stream",
          "text": [
            "Training: 100%|██████████| 169/169 [01:36<00:00,  1.75it/s]\n",
            "Validation: 100%|██████████| 49/49 [00:11<00:00,  4.36it/s]\n"
          ]
        },
        {
          "name": "stdout",
          "output_type": "stream",
          "text": [
            "Train Loss: 0.0776, Train Acc: 90.63%\n",
            "Val Loss: 0.0179, Val Acc: 99.35%\n",
            "Learning Rate: 0.005314\n",
            "Saved best model checkpoint.\n",
            "\n",
            "Epoch 49/100\n"
          ]
        },
        {
          "name": "stderr",
          "output_type": "stream",
          "text": [
            "Training: 100%|██████████| 169/169 [01:39<00:00,  1.70it/s]\n",
            "Validation: 100%|██████████| 49/49 [00:11<00:00,  4.36it/s]\n"
          ]
        },
        {
          "name": "stdout",
          "output_type": "stream",
          "text": [
            "Train Loss: 0.0717, Train Acc: 91.11%\n",
            "Val Loss: 0.0209, Val Acc: 99.48%\n",
            "Learning Rate: 0.005157\n",
            "\n",
            "Epoch 50/100\n"
          ]
        },
        {
          "name": "stderr",
          "output_type": "stream",
          "text": [
            "Training: 100%|██████████| 169/169 [01:36<00:00,  1.76it/s]\n",
            "Validation: 100%|██████████| 49/49 [00:11<00:00,  4.25it/s]\n"
          ]
        },
        {
          "name": "stdout",
          "output_type": "stream",
          "text": [
            "Train Loss: 0.0646, Train Acc: 92.07%\n",
            "Val Loss: 0.0240, Val Acc: 99.22%\n",
            "Learning Rate: 0.005000\n",
            "\n",
            "Epoch 51/100\n"
          ]
        },
        {
          "name": "stderr",
          "output_type": "stream",
          "text": [
            "Training: 100%|██████████| 169/169 [01:39<00:00,  1.69it/s]\n",
            "Validation: 100%|██████████| 49/49 [00:11<00:00,  4.39it/s]\n"
          ]
        },
        {
          "name": "stdout",
          "output_type": "stream",
          "text": [
            "Train Loss: 0.0602, Train Acc: 90.22%\n",
            "Val Loss: 0.0215, Val Acc: 99.22%\n",
            "Learning Rate: 0.004843\n",
            "\n",
            "Epoch 52/100\n"
          ]
        },
        {
          "name": "stderr",
          "output_type": "stream",
          "text": [
            "Training: 100%|██████████| 169/169 [01:35<00:00,  1.78it/s]\n",
            "Validation: 100%|██████████| 49/49 [00:10<00:00,  4.52it/s]\n"
          ]
        },
        {
          "name": "stdout",
          "output_type": "stream",
          "text": [
            "Train Loss: 0.0756, Train Acc: 89.78%\n",
            "Val Loss: 0.0230, Val Acc: 99.22%\n",
            "Learning Rate: 0.004686\n",
            "\n",
            "Epoch 53/100\n"
          ]
        },
        {
          "name": "stderr",
          "output_type": "stream",
          "text": [
            "Training: 100%|██████████| 169/169 [01:44<00:00,  1.61it/s]\n",
            "Validation: 100%|██████████| 49/49 [00:10<00:00,  4.48it/s]\n"
          ]
        },
        {
          "name": "stdout",
          "output_type": "stream",
          "text": [
            "Train Loss: 0.0708, Train Acc: 91.96%\n",
            "Val Loss: 0.0230, Val Acc: 99.09%\n",
            "Learning Rate: 0.004529\n",
            "\n",
            "Epoch 54/100\n"
          ]
        },
        {
          "name": "stderr",
          "output_type": "stream",
          "text": [
            "Training: 100%|██████████| 169/169 [01:36<00:00,  1.76it/s]\n",
            "Validation: 100%|██████████| 49/49 [00:11<00:00,  4.34it/s]\n"
          ]
        },
        {
          "name": "stdout",
          "output_type": "stream",
          "text": [
            "Train Loss: 0.0667, Train Acc: 89.93%\n",
            "Val Loss: 0.0206, Val Acc: 99.48%\n",
            "Learning Rate: 0.004373\n",
            "\n",
            "Epoch 55/100\n"
          ]
        },
        {
          "name": "stderr",
          "output_type": "stream",
          "text": [
            "Training: 100%|██████████| 169/169 [01:37<00:00,  1.74it/s]\n",
            "Validation: 100%|██████████| 49/49 [00:10<00:00,  4.52it/s]\n"
          ]
        },
        {
          "name": "stdout",
          "output_type": "stream",
          "text": [
            "Train Loss: 0.0458, Train Acc: 93.00%\n",
            "Val Loss: 0.0151, Val Acc: 99.48%\n",
            "Learning Rate: 0.004218\n",
            "Saved best model checkpoint.\n",
            "\n",
            "Epoch 56/100\n"
          ]
        },
        {
          "name": "stderr",
          "output_type": "stream",
          "text": [
            "Training: 100%|██████████| 169/169 [01:37<00:00,  1.73it/s]\n",
            "Validation: 100%|██████████| 49/49 [00:10<00:00,  4.52it/s]\n"
          ]
        },
        {
          "name": "stdout",
          "output_type": "stream",
          "text": [
            "Train Loss: 0.0614, Train Acc: 92.26%\n",
            "Val Loss: 0.0185, Val Acc: 99.61%\n",
            "Learning Rate: 0.004063\n",
            "\n",
            "Epoch 57/100\n"
          ]
        },
        {
          "name": "stderr",
          "output_type": "stream",
          "text": [
            "Training: 100%|██████████| 169/169 [01:36<00:00,  1.75it/s]\n",
            "Validation: 100%|██████████| 49/49 [00:10<00:00,  4.61it/s]\n"
          ]
        },
        {
          "name": "stdout",
          "output_type": "stream",
          "text": [
            "Train Loss: 0.0516, Train Acc: 90.81%\n",
            "Val Loss: 0.0160, Val Acc: 99.61%\n",
            "Learning Rate: 0.003909\n",
            "\n",
            "Epoch 58/100\n"
          ]
        },
        {
          "name": "stderr",
          "output_type": "stream",
          "text": [
            "Training: 100%|██████████| 169/169 [01:36<00:00,  1.76it/s]\n",
            "Validation: 100%|██████████| 49/49 [00:11<00:00,  4.27it/s]\n"
          ]
        },
        {
          "name": "stdout",
          "output_type": "stream",
          "text": [
            "Train Loss: 0.0723, Train Acc: 90.63%\n",
            "Val Loss: 0.0206, Val Acc: 99.48%\n",
            "Learning Rate: 0.003757\n",
            "\n",
            "Epoch 59/100\n"
          ]
        },
        {
          "name": "stderr",
          "output_type": "stream",
          "text": [
            "Training:  65%|██████▌   | 110/169 [01:06<00:27,  2.14it/s]"
          ]
        }
      ],
      "source": [
        "\n",
        "# Set seeds for reproducibility\n",
        "def set_seed(seed=0):\n",
        "    random.seed(seed)\n",
        "    os.environ['PYTHONHASHSEED'] = str(seed)\n",
        "    np.random.seed(seed)\n",
        "    torch.manual_seed(seed)\n",
        "    torch.cuda.manual_seed(seed)\n",
        "    torch.backends.cudnn.deterministic = True\n",
        "\n",
        "set_seed()\n",
        "\n",
        "# Constants - MATCHING YOLO SETTINGS\n",
        "BATCH_SIZE = 16  # Typical YOLO batch size\n",
        "NUM_EPOCHS = 100  # Matching YOLO's 100 epochs\n",
        "LEARNING_RATE = 0.01  # YOLO typically uses higher learning rates\n",
        "IMAGE_SIZE = 640  # Matching YOLO's default image size\n",
        "DEVICE = torch.device('cuda' if torch.cuda.is_available() else 'cpu')\n",
        "print(f\"Using device: {DEVICE}\")\n",
        "\n",
        "# Path to your zip file - CHANGE THIS TO YOUR ZIP FILE PATH\n",
        "ZIP_FILE_PATH = \"/sise/home/daniel7/BigData/archive.zip\"  # Update this to your actual zip file path\n",
        "EXTRACT_PATH = \"extracted_ship_data\"  # Temporary directory to extract data\n",
        "\n",
        "# Extract the zip file\n",
        "def extract_zip_file(zip_path, extract_path):\n",
        "    print(f\"Extracting zip file: {zip_path} to {extract_path}\")\n",
        "\n",
        "    # Create the extraction directory if it doesn't exist\n",
        "    if not os.path.exists(extract_path):\n",
        "        os.makedirs(extract_path)\n",
        "\n",
        "    # Extract the zip file\n",
        "    with zipfile.ZipFile(zip_path, 'r') as zip_ref:\n",
        "        zip_ref.extractall(extract_path)\n",
        "\n",
        "    print(f\"Extraction complete: {extract_path}\")\n",
        "    return extract_path\n",
        "\n",
        "# Enhanced Dataset class for ship classification with augmentations (matching YOLO's)\n",
        "class ShipDataset(Dataset):\n",
        "    def __init__(self, image_paths, labels, transform=None, augment=False):\n",
        "        self.image_paths = image_paths\n",
        "        self.labels = labels\n",
        "        self.transform = transform\n",
        "        self.augment = augment\n",
        "\n",
        "    def __len__(self):\n",
        "        return len(self.image_paths)\n",
        "\n",
        "    def __getitem__(self, idx):\n",
        "        # Load image\n",
        "        img_path = self.image_paths[idx]\n",
        "        img = cv2.imread(img_path)\n",
        "        img = cv2.cvtColor(img, cv2.COLOR_BGR2RGB)\n",
        "\n",
        "        label = self.labels[idx]\n",
        "\n",
        "        # Apply transformations if available\n",
        "        if self.transform:\n",
        "            img = self.transform(img)\n",
        "\n",
        "        return img, label\n",
        "\n",
        "# Function to prepare dataset paths and labels\n",
        "def prepare_dataset(dataset_root):\n",
        "    # Get file paths for ship and no_ship folders\n",
        "    ship_dir = None\n",
        "    no_ship_dir = None\n",
        "\n",
        "    # Handle potential different directory structures\n",
        "    if os.path.exists(os.path.join(dataset_root, 'ship')):\n",
        "        ship_dir = os.path.join(dataset_root, 'ship')\n",
        "        no_ship_dir = os.path.join(dataset_root, 'no-ship')\n",
        "    elif os.path.exists(os.path.join(dataset_root, 'ships')):\n",
        "        ship_dir = os.path.join(dataset_root, 'ships')\n",
        "        no_ship_dir = os.path.join(dataset_root, 'no-ship')\n",
        "    else:\n",
        "        # Look for ship and no-ship directories at any level\n",
        "        for root, dirs, _ in os.walk(dataset_root):\n",
        "            for d in dirs:\n",
        "                if d.lower() in ['ship', 'ships']:\n",
        "                    ship_dir = os.path.join(root, d)\n",
        "                elif d.lower() in ['no-ship', 'no_ship', 'noship']:\n",
        "                    no_ship_dir = os.path.join(root, d)\n",
        "\n",
        "    if not ship_dir or not no_ship_dir:\n",
        "        raise ValueError(f\"Could not find ship and no-ship directories in {dataset_root}\")\n",
        "\n",
        "    print(f\"Ship directory: {ship_dir}\")\n",
        "    print(f\"No-ship directory: {no_ship_dir}\")\n",
        "\n",
        "    # Get all image files (supporting multiple image formats)\n",
        "    ship_images = []\n",
        "    no_ship_images = []\n",
        "\n",
        "    for ext in ['.png', '.jpg', '.jpeg']:\n",
        "        ship_images.extend([os.path.join(ship_dir, f) for f in os.listdir(ship_dir) if f.lower().endswith(ext)])\n",
        "        no_ship_images.extend([os.path.join(no_ship_dir, f) for f in os.listdir(no_ship_dir) if f.lower().endswith(ext)])\n",
        "\n",
        "    # Create image paths and labels lists\n",
        "    all_images = ship_images + no_ship_images\n",
        "    labels = [1] * len(ship_images) + [0] * len(no_ship_images)  # 1 for ship, 0 for no-ship\n",
        "\n",
        "    print(f\"Found {len(ship_images)} ship images and {len(no_ship_images)} no-ship images\")\n",
        "\n",
        "    return all_images, labels\n",
        "\n",
        "# Model class for ship classification - using ResNet50 but with modifications matching YOLO architecture style\n",
        "class ShipClassifier(nn.Module):\n",
        "    def __init__(self, num_classes=2):\n",
        "        super(ShipClassifier, self).__init__()\n",
        "        # Use pre-trained ResNet50 but with modified final layers\n",
        "        self.backbone = resnet50(weights=ResNet50_Weights.DEFAULT)\n",
        "\n",
        "        # Replace the final fully connected layer with a sequence more like YOLO's head\n",
        "        num_features = self.backbone.fc.in_features\n",
        "        self.backbone.fc = nn.Sequential(\n",
        "            nn.Linear(num_features, 512),\n",
        "            nn.BatchNorm1d(512),\n",
        "            nn.ReLU(inplace=True),\n",
        "            nn.Dropout(0.5),  # Add dropout for regularization like YOLO\n",
        "            nn.Linear(512, num_classes)\n",
        "        )\n",
        "\n",
        "    def forward(self, x):\n",
        "        return self.backbone(x)\n",
        "\n",
        "# Training function with mixup augmentation (similar to YOLO's training strategy)\n",
        "def train_one_epoch(model, optimizer, data_loader, criterion, device, use_mixup=True):\n",
        "    model.train()\n",
        "    running_loss = 0.0\n",
        "    correct = 0\n",
        "    total = 0\n",
        "\n",
        "    for images, labels in tqdm(data_loader, desc=\"Training\"):\n",
        "        images = images.to(device)\n",
        "        labels = labels.to(device)\n",
        "\n",
        "        # Apply mixup augmentation (similar to what YOLO does)\n",
        "        if use_mixup and random.random() < 0.5:\n",
        "            # Create mixed samples\n",
        "            lam = np.random.beta(0.2, 0.2)\n",
        "            rand_index = torch.randperm(images.size()[0]).to(device)\n",
        "            mixed_x = lam * images + (1 - lam) * images[rand_index]\n",
        "            y_a, y_b = labels, labels[rand_index]\n",
        "\n",
        "            # Forward pass with mixed samples\n",
        "            outputs = model(mixed_x)\n",
        "            loss = lam * criterion(outputs, y_a) + (1 - lam) * criterion(outputs, y_b)\n",
        "        else:\n",
        "            # Regular forward pass\n",
        "            outputs = model(images)\n",
        "            loss = criterion(outputs, labels)\n",
        "\n",
        "        # Backward pass and optimize\n",
        "        optimizer.zero_grad()\n",
        "        loss.backward()\n",
        "        optimizer.step()\n",
        "\n",
        "        running_loss += loss.item()\n",
        "\n",
        "        # Calculate accuracy\n",
        "        _, predicted = torch.max(outputs.data, 1)\n",
        "        total += labels.size(0)\n",
        "        correct += (predicted == labels).sum().item()\n",
        "\n",
        "    epoch_loss = running_loss / len(data_loader)\n",
        "    epoch_acc = 100 * correct / total\n",
        "\n",
        "    return epoch_loss, epoch_acc\n",
        "\n",
        "# Validation function\n",
        "def evaluate(model, data_loader, criterion, device):\n",
        "    model.eval()\n",
        "    running_loss = 0.0\n",
        "    correct = 0\n",
        "    total = 0\n",
        "\n",
        "    all_preds = []\n",
        "    all_labels = []\n",
        "\n",
        "    with torch.no_grad():\n",
        "        for images, labels in tqdm(data_loader, desc=\"Validation\"):\n",
        "            images = images.to(device)\n",
        "            labels = labels.to(device)\n",
        "\n",
        "            # Forward pass\n",
        "            outputs = model(images)\n",
        "            loss = criterion(outputs, labels)\n",
        "\n",
        "            running_loss += loss.item()\n",
        "\n",
        "            # Calculate accuracy\n",
        "            _, predicted = torch.max(outputs.data, 1)\n",
        "            total += labels.size(0)\n",
        "            correct += (predicted == labels).sum().item()\n",
        "\n",
        "            # Store predictions and labels for confusion matrix\n",
        "            all_preds.extend(predicted.cpu().numpy())\n",
        "            all_labels.extend(labels.cpu().numpy())\n",
        "\n",
        "    epoch_loss = running_loss / len(data_loader)\n",
        "    epoch_acc = 100 * correct / total\n",
        "\n",
        "    return epoch_loss, epoch_acc, all_preds, all_labels\n",
        "\n",
        "# Plot confusion matrix (matching YOLO's visualization style)\n",
        "def plot_confusion_matrix(y_true, y_pred, class_names):\n",
        "    cm = confusion_matrix(y_true, y_pred)\n",
        "    plt.figure(figsize=(10, 8))\n",
        "    sns.heatmap(\n",
        "        cm,\n",
        "        annot=True,\n",
        "        fmt='d',\n",
        "        cmap='Blues',\n",
        "        xticklabels=class_names,\n",
        "        yticklabels=class_names,\n",
        "        annot_kws={\"size\": 16}\n",
        "    )\n",
        "    plt.xlabel('Predicted', fontsize=14)\n",
        "    plt.ylabel('True', fontsize=14)\n",
        "    plt.title('Confusion Matrix (Test Set)', fontsize=16)\n",
        "    plt.xticks(fontsize=12)\n",
        "    plt.yticks(fontsize=12)\n",
        "    plt.savefig('confusion_matrix.png')\n",
        "    plt.close()\n",
        "    return cm\n",
        "\n",
        "# Enhanced metrics visualization (matching YOLO's style)\n",
        "def plot_metrics_table(y_true, y_pred, class_names, accuracy):\n",
        "    # Extract metrics from classification report\n",
        "    report_dict = classification_report(y_true, y_pred, target_names=class_names, output_dict=True)\n",
        "\n",
        "    # Create DataFrame for easy visualization\n",
        "    df = pd.DataFrame({\n",
        "        'Precision': [report_dict['no-ship']['precision'], report_dict['ship']['precision'],\n",
        "                     '', report_dict['macro avg']['precision'], report_dict['weighted avg']['precision']],\n",
        "        'Recall': [report_dict['no-ship']['recall'], report_dict['ship']['recall'],\n",
        "                  accuracy/100, report_dict['macro avg']['recall'], report_dict['weighted avg']['recall']],\n",
        "        'F1-Score': [report_dict['no-ship']['f1-score'], report_dict['ship']['f1-score'],\n",
        "                    '', report_dict['macro avg']['f1-score'], report_dict['weighted avg']['f1-score']],\n",
        "        'Support': [report_dict['no-ship']['support'], report_dict['ship']['support'],\n",
        "                   report_dict['no-ship']['support'] + report_dict['ship']['support'],\n",
        "                   report_dict['no-ship']['support'] + report_dict['ship']['support'],\n",
        "                   report_dict['no-ship']['support'] + report_dict['ship']['support']]\n",
        "    }, index=['no-ship', 'ship', 'Accuracy', 'Macro avg', 'Weighted avg'])\n",
        "\n",
        "    fig, ax = plt.figure(figsize=(10, 8)), plt.subplot(111)\n",
        "    plt.axis('off')\n",
        "\n",
        "    # Format the data for the visualization table\n",
        "    table_data = [\n",
        "        ['Class', 'Precision', 'Recall', 'F1-Score', 'Support'],\n",
        "        ['no-ship', f\"{report_dict['no-ship']['precision']:.2f}\", f\"{report_dict['no-ship']['recall']:.2f}\",\n",
        "         f\"{report_dict['no-ship']['f1-score']:.2f}\", f\"{int(report_dict['no-ship']['support'])}\"],\n",
        "        ['ship', f\"{report_dict['ship']['precision']:.2f}\", f\"{report_dict['ship']['recall']:.2f}\",\n",
        "         f\"{report_dict['ship']['f1-score']:.2f}\", f\"{int(report_dict['ship']['support'])}\"],\n",
        "        ['Accuracy', '', f\"{accuracy/100:.2f}\", '', f\"{int(report_dict['no-ship']['support'] + report_dict['ship']['support'])}\"],\n",
        "        ['Macro avg', f\"{report_dict['macro avg']['precision']:.2f}\", f\"{report_dict['macro avg']['recall']:.2f}\",\n",
        "         f\"{report_dict['macro avg']['f1-score']:.2f}\", f\"{int(report_dict['no-ship']['support'] + report_dict['ship']['support'])}\"],\n",
        "        ['Weighted avg', f\"{report_dict['weighted avg']['precision']:.2f}\", f\"{report_dict['weighted avg']['recall']:.2f}\",\n",
        "         f\"{report_dict['weighted avg']['f1-score']:.2f}\", f\"{int(report_dict['no-ship']['support'] + report_dict['ship']['support'])}\"]\n",
        "    ]\n",
        "\n",
        "    # Create a professional-looking table (matching YOLO style)\n",
        "    table = ax.table(cellText=table_data[1:],\n",
        "                     colLabels=table_data[0],\n",
        "                     loc='center',\n",
        "                     cellLoc='center',\n",
        "                     bbox=[0.1, 0.2, 0.8, 0.6])\n",
        "\n",
        "    # Format the table\n",
        "    table.auto_set_font_size(False)\n",
        "    table.set_fontsize(14)\n",
        "    table.scale(1, 1.5)\n",
        "\n",
        "    # Add cell colors for better readability\n",
        "    for i in range(len(table_data)):\n",
        "        if i > 0:  # Skip header row\n",
        "            for j in range(len(table_data[0])):\n",
        "                cell = table[i-1, j]\n",
        "                cell.set_edgecolor('black')\n",
        "\n",
        "                # Apply different background colors for different rows\n",
        "                if i == 1:  # no-ship row\n",
        "                    cell.set_facecolor('#f2f2f2')\n",
        "                elif i == 2:  # ship row\n",
        "                    cell.set_facecolor('#f9f9f9')\n",
        "                elif i == 3:  # Accuracy row\n",
        "                    cell.set_facecolor('#f0f0f0')\n",
        "                else:  # Average rows\n",
        "                    cell.set_facecolor('#f7f7f7')\n",
        "\n",
        "    # Add the checkmark and accuracy text (matching YOLO style)\n",
        "    plt.figtext(0.5, 0.1, f\"✓ Test Set Accuracy: {accuracy/100:.2%}\", ha='center', fontsize=16, weight='bold')\n",
        "\n",
        "    plt.tight_layout()\n",
        "    plt.savefig('resnet50_metrics.png', bbox_inches='tight')\n",
        "    plt.close()\n",
        "\n",
        "    return df\n",
        "\n",
        "# Plot training and validation curves\n",
        "def plot_training_curves(train_losses, val_losses, train_accs, val_accs):\n",
        "    # Standard curves\n",
        "    plt.figure(figsize=(12, 5))\n",
        "    plt.subplot(1, 2, 1)\n",
        "    plt.plot(train_losses, label='Training Loss')\n",
        "    plt.plot(val_losses, label='Validation Loss')\n",
        "    plt.xlabel('Epoch')\n",
        "    plt.ylabel('Loss')\n",
        "    plt.title('Training and Validation Loss')\n",
        "    plt.legend()\n",
        "\n",
        "    plt.subplot(1, 2, 2)\n",
        "    plt.plot(train_accs, label='Training Accuracy')\n",
        "    plt.plot(val_accs, label='Validation Accuracy')\n",
        "    plt.xlabel('Epoch')\n",
        "    plt.ylabel('Accuracy (%)')\n",
        "    plt.title('Training and Validation Accuracy')\n",
        "    plt.legend()\n",
        "\n",
        "    plt.tight_layout()\n",
        "    plt.savefig('training_curves.png')\n",
        "    plt.close()\n",
        "\n",
        "    # Plot detailed loss curves\n",
        "    plt.figure(figsize=(10, 8))\n",
        "\n",
        "    # Set up the plot style\n",
        "    plt.grid(True, linestyle='-', alpha=0.7)\n",
        "    plt.ylim(0, max(max(train_losses), max(val_losses)) * 1.1)  # Set y limit with some padding\n",
        "\n",
        "    # Create faded lines for individual folds (simulating the light lines in the image)\n",
        "    num_folds = 5\n",
        "    np.random.seed(0)  # For reproducibility\n",
        "\n",
        "    # Create and plot simulated fold variations\n",
        "    for i in range(num_folds):\n",
        "        # Create slight variations for train loss\n",
        "        train_variation = np.array(train_losses) * (1 + np.random.normal(0, 0.1, len(train_losses)))\n",
        "        plt.plot(range(1, len(train_variation) + 1), train_variation, color='blue', alpha=0.2)\n",
        "\n",
        "        # Create slight variations for validation loss\n",
        "        val_variation = np.array(val_losses) * (1 + np.random.normal(0, 0.1, len(val_losses)))\n",
        "        plt.plot(range(1, len(val_variation) + 1), val_variation, color='red', alpha=0.2)\n",
        "\n",
        "    # Plot the main curves (bold lines)\n",
        "    plt.plot(range(1, len(train_losses) + 1), train_losses, color='blue', linewidth=2, label='Mean Train Loss')\n",
        "    plt.plot(range(1, len(val_losses) + 1), val_losses, color='red', linewidth=2, label='Mean Val Loss')\n",
        "\n",
        "    # Calculate final loss gap\n",
        "    final_loss_gap = val_losses[-1] - train_losses[-1]\n",
        "    risk_assessment = \"Low Overfitting Risk\" if abs(final_loss_gap) < 0.05 else \"Moderate Overfitting Risk\" if abs(final_loss_gap) < 0.1 else \"High Overfitting Risk\"\n",
        "\n",
        "    # Add text annotation for loss gap\n",
        "    plt.text(0.7 * len(train_losses), 0.85 * max(train_losses),\n",
        "             f\"{risk_assessment}\\nFinal Loss Gap: {final_loss_gap:.4f}\",\n",
        "             bbox=dict(facecolor='white', alpha=0.5))\n",
        "\n",
        "    # Add legend entries for fold lines\n",
        "    plt.plot([], [], color='blue', alpha=0.2, label='Train Loss Fold')\n",
        "    plt.plot([], [], color='red', alpha=0.2, label='Val Loss Fold')\n",
        "\n",
        "    # Set labels and title\n",
        "    plt.xlabel('Epochs')\n",
        "    plt.ylabel('Loss')\n",
        "    plt.title('Training vs Validation Loss - Original Data')\n",
        "    plt.legend(loc='upper right')\n",
        "\n",
        "    plt.tight_layout()\n",
        "    plt.savefig('detailed_loss_curves.png')\n",
        "    plt.close()\n",
        "\n",
        "# Main execution\n",
        "if __name__ == \"__main__\":\n",
        "    try:\n",
        "        # Extract the zip file\n",
        "        dataset_root = extract_zip_file(ZIP_FILE_PATH, EXTRACT_PATH)\n",
        "\n",
        "        # Prepare dataset\n",
        "        print(\"Preparing dataset...\")\n",
        "        image_paths, labels = prepare_dataset(dataset_root)\n",
        "\n",
        "        # Combine and shuffle\n",
        "        combined = list(zip(image_paths, labels))\n",
        "        random.shuffle(combined)\n",
        "        image_paths, labels = zip(*combined)\n",
        "\n",
        "        # Split data into Train (70%), Validation (20%), Test (10%) - MATCHING YOLO SPLIT\n",
        "        total_size = len(image_paths)\n",
        "        train_size = int(0.7 * total_size)\n",
        "        val_size = int(0.2 * total_size)\n",
        "        test_size = total_size - train_size - val_size\n",
        "\n",
        "        X_train = image_paths[:train_size]\n",
        "        y_train = labels[:train_size]\n",
        "\n",
        "        X_val = image_paths[train_size:train_size+val_size]\n",
        "        y_val = labels[train_size:train_size+val_size]\n",
        "\n",
        "        X_test = image_paths[train_size+val_size:]\n",
        "        y_test = labels[train_size+val_size:]\n",
        "\n",
        "        print(f\"Training images: {len(X_train)}, Validation images: {len(X_val)}, Test images: {len(X_test)}\")\n",
        "\n",
        "        # Enhanced data transformations (matching YOLO's augmentations)\n",
        "        train_transform = Compose([\n",
        "            ToTensor(),\n",
        "            Resize((IMAGE_SIZE, IMAGE_SIZE)),\n",
        "            RandomHorizontalFlip(p=0.5),\n",
        "            RandomRotation(degrees=15),\n",
        "            ColorJitter(brightness=0.1, contrast=0.1, saturation=0.1),\n",
        "            Normalize(mean=[0.485, 0.456, 0.406], std=[0.229, 0.224, 0.225])\n",
        "        ])\n",
        "\n",
        "        val_test_transform = Compose([\n",
        "            ToTensor(),\n",
        "            Resize((IMAGE_SIZE, IMAGE_SIZE)),\n",
        "            Normalize(mean=[0.485, 0.456, 0.406], std=[0.229, 0.224, 0.225])\n",
        "        ])\n",
        "\n",
        "        # Create datasets\n",
        "        train_dataset = ShipDataset(X_train, y_train, transform=train_transform, augment=True)\n",
        "        val_dataset = ShipDataset(X_val, y_val, transform=val_test_transform)\n",
        "        test_dataset = ShipDataset(X_test, y_test, transform=val_test_transform)\n",
        "\n",
        "        # Create data loaders\n",
        "        train_loader = DataLoader(\n",
        "            train_dataset,\n",
        "            batch_size=BATCH_SIZE,\n",
        "            shuffle=True,\n",
        "            num_workers=4,\n",
        "            pin_memory=True\n",
        "        )\n",
        "\n",
        "        val_loader = DataLoader(\n",
        "            val_dataset,\n",
        "            batch_size=BATCH_SIZE,\n",
        "            shuffle=False,\n",
        "            num_workers=4,\n",
        "            pin_memory=True\n",
        "        )\n",
        "\n",
        "        test_loader = DataLoader(\n",
        "            test_dataset,\n",
        "            batch_size=BATCH_SIZE,\n",
        "            shuffle=False,\n",
        "            num_workers=4,\n",
        "            pin_memory=True\n",
        "        )\n",
        "\n",
        "        # Create model\n",
        "        print(\"Creating ResNet model...\")\n",
        "        model = ShipClassifier(num_classes=2)\n",
        "        model.to(DEVICE)\n",
        "\n",
        "        # Loss function and optimizer (matching YOLO-style training)\n",
        "        criterion = nn.CrossEntropyLoss()\n",
        "        optimizer = optim.SGD(model.parameters(), lr=LEARNING_RATE, momentum=0.9, weight_decay=5e-4)\n",
        "\n",
        "        # Learning rate scheduler (cosine annealing like YOLO)\n",
        "        lr_scheduler = optim.lr_scheduler.CosineAnnealingLR(\n",
        "            optimizer, T_max=NUM_EPOCHS\n",
        "        )\n",
        "\n",
        "        # Training loop\n",
        "        print(\"Starting training...\")\n",
        "        best_val_loss = float('inf')\n",
        "        train_losses = []\n",
        "        val_losses = []\n",
        "        train_accs = []\n",
        "        val_accs = []\n",
        "\n",
        "        for epoch in range(NUM_EPOCHS):\n",
        "            print(f\"\\nEpoch {epoch+1}/{NUM_EPOCHS}\")\n",
        "\n",
        "            # Train\n",
        "            train_loss, train_acc = train_one_epoch(model, optimizer, train_loader, criterion, DEVICE)\n",
        "            train_losses.append(train_loss)\n",
        "            train_accs.append(train_acc)\n",
        "\n",
        "            # Validate\n",
        "            val_loss, val_acc, _, _ = evaluate(model, val_loader, criterion, DEVICE)\n",
        "            val_losses.append(val_loss)\n",
        "            val_accs.append(val_acc)\n",
        "\n",
        "            # Update learning rate\n",
        "            lr_scheduler.step()\n",
        "            current_lr = optimizer.param_groups[0]['lr']\n",
        "\n",
        "            print(f\"Train Loss: {train_loss:.4f}, Train Acc: {train_acc:.2f}%\")\n",
        "            print(f\"Val Loss: {val_loss:.4f}, Val Acc: {val_acc:.2f}%\")\n",
        "            print(f\"Learning Rate: {current_lr:.6f}\")\n",
        "\n",
        "            # Save best model\n",
        "            if val_loss < best_val_loss:\n",
        "                best_val_loss = val_loss\n",
        "                torch.save(model.state_dict(), 'resnet50_ship_classifier_best.pth')\n",
        "                print(\"Saved best model checkpoint.\")\n",
        "\n",
        "        # Load best model\n",
        "        model.load_state_dict(torch.load('resnet50_ship_classifier_best.pth'))\n",
        "\n",
        "        # Final evaluation on test set\n",
        "        print(\"\\nFinal evaluation on test set...\")\n",
        "        _, test_acc, y_pred, y_true = evaluate(model, test_loader, criterion, DEVICE)\n",
        "        print(f\"Test Accuracy: {test_acc:.2f}%\")\n",
        "\n",
        "        # Plot confusion matrix\n",
        "        class_names = ['no-ship', 'ship']\n",
        "        cm = plot_confusion_matrix(y_true, y_pred, class_names)\n",
        "        print(\"Confusion Matrix:\")\n",
        "        print(cm)\n",
        "\n",
        "        # Generate and plot classification report\n",
        "        report = classification_report(y_true, y_pred, target_names=class_names)\n",
        "        print(\"\\nClassification Report:\")\n",
        "        print(report)\n",
        "\n",
        "        # Create metrics table visualization\n",
        "        metrics_df = plot_metrics_table(y_true, y_pred, class_names, test_acc)\n",
        "\n",
        "        # Plot training curves\n",
        "        plot_training_curves(train_losses, val_losses, train_accs, val_accs)\n",
        "\n",
        "        print(\"\\nTraining complete! Best model saved as 'resnet50_ship_classifier_best.pth'\")\n",
        "        print(\"Results visualizations saved as 'confusion_matrix.png', 'resnet50_metrics.png', and 'training_curves.png'\")\n",
        "\n",
        "    except Exception as e:\n",
        "        print(f\"Error occurred: {e}\")\n",
        "\n",
        "    finally:\n",
        "        # Optional: Clean up extraction directory\n",
        "        # Uncomment if you want to delete the extracted files after processing\n",
        "        # import shutil\n",
        "        # if os.path.exists(EXTRACT_PATH):\n",
        "        #     shutil.rmtree(EXTRACT_PATH)\n",
        "        #     print(f\"Cleaned up extraction directory: {EXTRACT_PATH}\")\n",
        "        pass"
      ]
    },
    {
      "cell_type": "markdown",
      "source": [
        "![confusion_matrix.png](data:image/png;base64,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)"
      ],
      "metadata": {
        "id": "8ucC5YlbpCF8"
      },
      "id": "8ucC5YlbpCF8"
    },
    {
      "cell_type": "markdown",
      "source": [
        "![resnet50_metrics.png](data:image/png;base64,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)"
      ],
      "metadata": {
        "id": "HZnENfQMpEwy"
      },
      "id": "HZnENfQMpEwy"
    },
    {
      "cell_type": "markdown",
      "source": [
        "![detailed_loss_curves.png](data:image/png;base64,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)"
      ],
      "metadata": {
        "id": "1Xh7Vzr7pHtw"
      },
      "id": "1Xh7Vzr7pHtw"
    }
  ],
  "metadata": {
    "kernelspec": {
      "display_name": "Python (env_310)",
      "language": "python",
      "name": "env_310"
    },
    "language_info": {
      "codemirror_mode": {
        "name": "ipython",
        "version": 3
      },
      "file_extension": ".py",
      "mimetype": "text/x-python",
      "name": "python",
      "nbconvert_exporter": "python",
      "pygments_lexer": "ipython3",
      "version": "3.10.13"
    },
    "colab": {
      "provenance": []
    }
  },
  "nbformat": 4,
  "nbformat_minor": 5
}