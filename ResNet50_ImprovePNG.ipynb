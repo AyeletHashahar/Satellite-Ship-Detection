import os
import cv2
import random
import numpy as np
import pandas as pd
import matplotlib.pyplot as plt
import seaborn as sns
import torch
import torch.nn as nn
import torch.optim as optim
from torch.utils.data import Dataset, DataLoader
from torchvision.transforms import Compose, ToTensor, Resize, RandomHorizontalFlip, RandomRotation, ColorJitter, Normalize
from torchvision.models import resnet50, ResNet50_Weights
from sklearn.metrics import confusion_matrix, classification_report
from tqdm import tqdm
import zipfile

# Set seeds for reproducibility
def set_seed(seed=0):
    random.seed(seed)
    os.environ['PYTHONHASHSEED'] = str(seed)
    np.random.seed(seed)
    torch.manual_seed(seed)
    torch.cuda.manual_seed(seed)
    torch.backends.cudnn.deterministic = True

set_seed()

# Constants - MATCHING YOLO SETTINGS
BATCH_SIZE = 16  # Typical YOLO batch size
NUM_EPOCHS = 100  # Matching YOLO's 100 epochs
LEARNING_RATE = 0.01  # YOLO typically uses higher learning rates
IMAGE_SIZE = 640  # Matching YOLO's default image size
DEVICE = torch.device('cuda' if torch.cuda.is_available() else 'cpu')
print(f"Using device: {DEVICE}")

# Path to your zip file - CHANGE THIS TO YOUR ZIP FILE PATH
ZIP_FILE_PATH = "/sise/home/daniel7/BigData/archive.zip"  # Update this to your actual zip file path
EXTRACT_PATH = "extracted_ship_data"  # Temporary directory to extract data

# Extract the zip file
def extract_zip_file(zip_path, extract_path):
    print(f"Extracting zip file: {zip_path} to {extract_path}")
    
    # Create the extraction directory if it doesn't exist
    if not os.path.exists(extract_path):
        os.makedirs(extract_path)
    
    # Extract the zip file
    with zipfile.ZipFile(zip_path, 'r') as zip_ref:
        zip_ref.extractall(extract_path)
    
    print(f"Extraction complete: {extract_path}")
    return extract_path

# Enhanced Dataset class for ship classification with augmentations (matching YOLO's)
class ShipDataset(Dataset):
    def __init__(self, image_paths, labels, transform=None, augment=False):
        self.image_paths = image_paths
        self.labels = labels
        self.transform = transform
        self.augment = augment

    def __len__(self):
        return len(self.image_paths)

    def __getitem__(self, idx):
        # Load image
        img_path = self.image_paths[idx]
        img = cv2.imread(img_path)
        img = cv2.cvtColor(img, cv2.COLOR_BGR2RGB)

        label = self.labels[idx]

        # Apply transformations if available
        if self.transform:
            img = self.transform(img)
        
        return img, label

# Function to prepare dataset paths and labels
def prepare_dataset(dataset_root):
    # Get file paths for ship and no_ship folders
    ship_dir = None
    no_ship_dir = None
    
    # Handle potential different directory structures
    if os.path.exists(os.path.join(dataset_root, 'ship')):
        ship_dir = os.path.join(dataset_root, 'ship')
        no_ship_dir = os.path.join(dataset_root, 'no-ship')
    elif os.path.exists(os.path.join(dataset_root, 'ships')):
        ship_dir = os.path.join(dataset_root, 'ships')
        no_ship_dir = os.path.join(dataset_root, 'no-ship')
    else:
        # Look for ship and no-ship directories at any level
        for root, dirs, _ in os.walk(dataset_root):
            for d in dirs:
                if d.lower() in ['ship', 'ships']:
                    ship_dir = os.path.join(root, d)
                elif d.lower() in ['no-ship', 'no_ship', 'noship']:
                    no_ship_dir = os.path.join(root, d)
    
    if not ship_dir or not no_ship_dir:
        raise ValueError(f"Could not find ship and no-ship directories in {dataset_root}")
    
    print(f"Ship directory: {ship_dir}")
    print(f"No-ship directory: {no_ship_dir}")
    
    # Get all image files (supporting multiple image formats)
    ship_images = []
    no_ship_images = []
    
    for ext in ['.png', '.jpg', '.jpeg']:
        ship_images.extend([os.path.join(ship_dir, f) for f in os.listdir(ship_dir) if f.lower().endswith(ext)])
        no_ship_images.extend([os.path.join(no_ship_dir, f) for f in os.listdir(no_ship_dir) if f.lower().endswith(ext)])

    # Create image paths and labels lists
    all_images = ship_images + no_ship_images
    labels = [1] * len(ship_images) + [0] * len(no_ship_images)  # 1 for ship, 0 for no-ship

    print(f"Found {len(ship_images)} ship images and {len(no_ship_images)} no-ship images")
    
    return all_images, labels

# Model class for ship classification - using ResNet50 but with modifications matching YOLO architecture style
class ShipClassifier(nn.Module):
    def __init__(self, num_classes=2):
        super(ShipClassifier, self).__init__()
        # Use pre-trained ResNet50 but with modified final layers
        self.backbone = resnet50(weights=ResNet50_Weights.DEFAULT)
        
        # Replace the final fully connected layer with a sequence more like YOLO's head
        num_features = self.backbone.fc.in_features
        self.backbone.fc = nn.Sequential(
            nn.Linear(num_features, 512),
            nn.BatchNorm1d(512),
            nn.ReLU(inplace=True),
            nn.Dropout(0.5),  # Add dropout for regularization like YOLO
            nn.Linear(512, num_classes)
        )
        
    def forward(self, x):
        return self.backbone(x)

# Training function with mixup augmentation (similar to YOLO's training strategy)
def train_one_epoch(model, optimizer, data_loader, criterion, device, use_mixup=True):
    model.train()
    running_loss = 0.0
    correct = 0
    total = 0

    for images, labels in tqdm(data_loader, desc="Training"):
        images = images.to(device)
        labels = labels.to(device)

        # Apply mixup augmentation (similar to what YOLO does)
        if use_mixup and random.random() < 0.5:
            # Create mixed samples
            lam = np.random.beta(0.2, 0.2)
            rand_index = torch.randperm(images.size()[0]).to(device)
            mixed_x = lam * images + (1 - lam) * images[rand_index]
            y_a, y_b = labels, labels[rand_index]
            
            # Forward pass with mixed samples
            outputs = model(mixed_x)
            loss = lam * criterion(outputs, y_a) + (1 - lam) * criterion(outputs, y_b)
        else:
            # Regular forward pass
            outputs = model(images)
            loss = criterion(outputs, labels)

        # Backward pass and optimize
        optimizer.zero_grad()
        loss.backward()
        optimizer.step()

        running_loss += loss.item()
        
        # Calculate accuracy
        _, predicted = torch.max(outputs.data, 1)
        total += labels.size(0)
        correct += (predicted == labels).sum().item()

    epoch_loss = running_loss / len(data_loader)
    epoch_acc = 100 * correct / total
    
    return epoch_loss, epoch_acc

# Validation function
def evaluate(model, data_loader, criterion, device):
    model.eval()
    running_loss = 0.0
    correct = 0
    total = 0
    
    all_preds = []
    all_labels = []

    with torch.no_grad():
        for images, labels in tqdm(data_loader, desc="Validation"):
            images = images.to(device)
            labels = labels.to(device)

            # Forward pass
            outputs = model(images)
            loss = criterion(outputs, labels)

            running_loss += loss.item()
            
            # Calculate accuracy
            _, predicted = torch.max(outputs.data, 1)
            total += labels.size(0)
            correct += (predicted == labels).sum().item()
            
            # Store predictions and labels for confusion matrix
            all_preds.extend(predicted.cpu().numpy())
            all_labels.extend(labels.cpu().numpy())

    epoch_loss = running_loss / len(data_loader)
    epoch_acc = 100 * correct / total
    
    return epoch_loss, epoch_acc, all_preds, all_labels

# Plot confusion matrix (matching YOLO's visualization style)
def plot_confusion_matrix(y_true, y_pred, class_names):
    cm = confusion_matrix(y_true, y_pred)
    plt.figure(figsize=(10, 8))
    sns.heatmap(
        cm, 
        annot=True, 
        fmt='d', 
        cmap='Blues', 
        xticklabels=class_names, 
        yticklabels=class_names,
        annot_kws={"size": 16}
    )
    plt.xlabel('Predicted', fontsize=14)
    plt.ylabel('True', fontsize=14)
    plt.title('Confusion Matrix (Test Set)', fontsize=16)
    plt.xticks(fontsize=12)
    plt.yticks(fontsize=12)
    plt.savefig('confusion_matrix.png')
    plt.close()
    return cm

# Enhanced metrics visualization (matching YOLO's style)
def plot_metrics_table(y_true, y_pred, class_names, accuracy):
    # Extract metrics from classification report
    report_dict = classification_report(y_true, y_pred, target_names=class_names, output_dict=True)
    
    # Create DataFrame for easy visualization
    df = pd.DataFrame({
        'Precision': [report_dict['no-ship']['precision'], report_dict['ship']['precision'], 
                     '', report_dict['macro avg']['precision'], report_dict['weighted avg']['precision']],
        'Recall': [report_dict['no-ship']['recall'], report_dict['ship']['recall'], 
                  accuracy/100, report_dict['macro avg']['recall'], report_dict['weighted avg']['recall']],
        'F1-Score': [report_dict['no-ship']['f1-score'], report_dict['ship']['f1-score'], 
                    '', report_dict['macro avg']['f1-score'], report_dict['weighted avg']['f1-score']],
        'Support': [report_dict['no-ship']['support'], report_dict['ship']['support'], 
                   report_dict['no-ship']['support'] + report_dict['ship']['support'], 
                   report_dict['no-ship']['support'] + report_dict['ship']['support'],
                   report_dict['no-ship']['support'] + report_dict['ship']['support']]
    }, index=['no-ship', 'ship', 'Accuracy', 'Macro avg', 'Weighted avg'])
    
    fig, ax = plt.figure(figsize=(10, 8)), plt.subplot(111)
    plt.axis('off')
    
    # Format the data for the visualization table
    table_data = [
        ['Class', 'Precision', 'Recall', 'F1-Score', 'Support'],
        ['no-ship', f"{report_dict['no-ship']['precision']:.2f}", f"{report_dict['no-ship']['recall']:.2f}", 
         f"{report_dict['no-ship']['f1-score']:.2f}", f"{int(report_dict['no-ship']['support'])}"],
        ['ship', f"{report_dict['ship']['precision']:.2f}", f"{report_dict['ship']['recall']:.2f}", 
         f"{report_dict['ship']['f1-score']:.2f}", f"{int(report_dict['ship']['support'])}"],
        ['Accuracy', '', f"{accuracy/100:.2f}", '', f"{int(report_dict['no-ship']['support'] + report_dict['ship']['support'])}"],
        ['Macro avg', f"{report_dict['macro avg']['precision']:.2f}", f"{report_dict['macro avg']['recall']:.2f}", 
         f"{report_dict['macro avg']['f1-score']:.2f}", f"{int(report_dict['no-ship']['support'] + report_dict['ship']['support'])}"],
        ['Weighted avg', f"{report_dict['weighted avg']['precision']:.2f}", f"{report_dict['weighted avg']['recall']:.2f}", 
         f"{report_dict['weighted avg']['f1-score']:.2f}", f"{int(report_dict['no-ship']['support'] + report_dict['ship']['support'])}"]
    ]
    
    # Create a professional-looking table (matching YOLO style)
    table = ax.table(cellText=table_data[1:], 
                     colLabels=table_data[0], 
                     loc='center', 
                     cellLoc='center',
                     bbox=[0.1, 0.2, 0.8, 0.6])
    
    # Format the table
    table.auto_set_font_size(False)
    table.set_fontsize(14)
    table.scale(1, 1.5)
    
    # Add cell colors for better readability
    for i in range(len(table_data)):
        if i > 0:  # Skip header row
            for j in range(len(table_data[0])):
                cell = table[i-1, j]
                cell.set_edgecolor('black')
                
                # Apply different background colors for different rows
                if i == 1:  # no-ship row
                    cell.set_facecolor('#f2f2f2')
                elif i == 2:  # ship row
                    cell.set_facecolor('#f9f9f9')
                elif i == 3:  # Accuracy row
                    cell.set_facecolor('#f0f0f0')
                else:  # Average rows
                    cell.set_facecolor('#f7f7f7')
    
    # Add the checkmark and accuracy text (matching YOLO style)
    plt.figtext(0.5, 0.1, f"✓ Test Set Accuracy: {accuracy/100:.2%}", ha='center', fontsize=16, weight='bold')
    
    plt.tight_layout()
    plt.savefig('resnet50_metrics.png', bbox_inches='tight')
    plt.close()
    
    return df

# Plot training and validation curves
def plot_training_curves(train_losses, val_losses, train_accs, val_accs):
    # Standard curves
    plt.figure(figsize=(12, 5))
    plt.subplot(1, 2, 1)
    plt.plot(train_losses, label='Training Loss')
    plt.plot(val_losses, label='Validation Loss')
    plt.xlabel('Epoch')
    plt.ylabel('Loss')
    plt.title('Training and Validation Loss')
    plt.legend()
    
    plt.subplot(1, 2, 2)
    plt.plot(train_accs, label='Training Accuracy')
    plt.plot(val_accs, label='Validation Accuracy')
    plt.xlabel('Epoch')
    plt.ylabel('Accuracy (%)')
    plt.title('Training and Validation Accuracy')
    plt.legend()
    
    plt.tight_layout()
    plt.savefig('training_curves.png')
    plt.close()
    
    # Plot detailed loss curves
    plt.figure(figsize=(10, 8))
    
    # Set up the plot style
    plt.grid(True, linestyle='-', alpha=0.7)
    plt.ylim(0, max(max(train_losses), max(val_losses)) * 1.1)  # Set y limit with some padding
    
    # Create faded lines for individual folds (simulating the light lines in the image)
    num_folds = 5
    np.random.seed(0)  # For reproducibility
    
    # Create and plot simulated fold variations
    for i in range(num_folds):
        # Create slight variations for train loss
        train_variation = np.array(train_losses) * (1 + np.random.normal(0, 0.1, len(train_losses)))
        plt.plot(range(1, len(train_variation) + 1), train_variation, color='blue', alpha=0.2)
        
        # Create slight variations for validation loss
        val_variation = np.array(val_losses) * (1 + np.random.normal(0, 0.1, len(val_losses)))
        plt.plot(range(1, len(val_variation) + 1), val_variation, color='red', alpha=0.2)
    
    # Plot the main curves (bold lines)
    plt.plot(range(1, len(train_losses) + 1), train_losses, color='blue', linewidth=2, label='Mean Train Loss')
    plt.plot(range(1, len(val_losses) + 1), val_losses, color='red', linewidth=2, label='Mean Val Loss')
    
    # Calculate final loss gap
    final_loss_gap = val_losses[-1] - train_losses[-1]
    risk_assessment = "Low Overfitting Risk" if abs(final_loss_gap) < 0.05 else "Moderate Overfitting Risk" if abs(final_loss_gap) < 0.1 else "High Overfitting Risk"
    
    # Add text annotation for loss gap
    plt.text(0.7 * len(train_losses), 0.85 * max(train_losses), 
             f"{risk_assessment}\nFinal Loss Gap: {final_loss_gap:.4f}", 
             bbox=dict(facecolor='white', alpha=0.5))
    
    # Add legend entries for fold lines
    plt.plot([], [], color='blue', alpha=0.2, label='Train Loss Fold')
    plt.plot([], [], color='red', alpha=0.2, label='Val Loss Fold')
    
    # Set labels and title
    plt.xlabel('Epochs')
    plt.ylabel('Loss')
    plt.title('Training vs Validation Loss - Original Data')
    plt.legend(loc='upper right')
    
    plt.tight_layout()
    plt.savefig('detailed_loss_curves.png')
    plt.close()

# Main execution
if __name__ == "__main__":
    try:
        # Extract the zip file
        dataset_root = extract_zip_file(ZIP_FILE_PATH, EXTRACT_PATH)
        
        # Prepare dataset
        print("Preparing dataset...")
        image_paths, labels = prepare_dataset(dataset_root)
        
        # Combine and shuffle
        combined = list(zip(image_paths, labels))
        random.shuffle(combined)
        image_paths, labels = zip(*combined)
        
        # Split data into Train (70%), Validation (20%), Test (10%) - MATCHING YOLO SPLIT
        total_size = len(image_paths)
        train_size = int(0.7 * total_size)
        val_size = int(0.2 * total_size)
        test_size = total_size - train_size - val_size
        
        X_train = image_paths[:train_size]
        y_train = labels[:train_size]
        
        X_val = image_paths[train_size:train_size+val_size]
        y_val = labels[train_size:train_size+val_size]
        
        X_test = image_paths[train_size+val_size:]
        y_test = labels[train_size+val_size:]
        
        print(f"Training images: {len(X_train)}, Validation images: {len(X_val)}, Test images: {len(X_test)}")

        # Enhanced data transformations (matching YOLO's augmentations)
        train_transform = Compose([
            ToTensor(),
            Resize((IMAGE_SIZE, IMAGE_SIZE)),
            RandomHorizontalFlip(p=0.5),
            RandomRotation(degrees=15),
            ColorJitter(brightness=0.1, contrast=0.1, saturation=0.1),
            Normalize(mean=[0.485, 0.456, 0.406], std=[0.229, 0.224, 0.225])
        ])
        
        val_test_transform = Compose([
            ToTensor(),
            Resize((IMAGE_SIZE, IMAGE_SIZE)),
            Normalize(mean=[0.485, 0.456, 0.406], std=[0.229, 0.224, 0.225])
        ])

        # Create datasets
        train_dataset = ShipDataset(X_train, y_train, transform=train_transform, augment=True)
        val_dataset = ShipDataset(X_val, y_val, transform=val_test_transform)
        test_dataset = ShipDataset(X_test, y_test, transform=val_test_transform)

        # Create data loaders
        train_loader = DataLoader(
            train_dataset,
            batch_size=BATCH_SIZE,
            shuffle=True,
            num_workers=4,
            pin_memory=True
        )

        val_loader = DataLoader(
            val_dataset,
            batch_size=BATCH_SIZE,
            shuffle=False,
            num_workers=4,
            pin_memory=True
        )
        
        test_loader = DataLoader(
            test_dataset,
            batch_size=BATCH_SIZE,
            shuffle=False,
            num_workers=4,
            pin_memory=True
        )

        # Create model
        print("Creating ResNet model...")
        model = ShipClassifier(num_classes=2)
        model.to(DEVICE)

        # Loss function and optimizer (matching YOLO-style training)
        criterion = nn.CrossEntropyLoss()
        optimizer = optim.SGD(model.parameters(), lr=LEARNING_RATE, momentum=0.9, weight_decay=5e-4)

        # Learning rate scheduler (cosine annealing like YOLO)
        lr_scheduler = optim.lr_scheduler.CosineAnnealingLR(
            optimizer, T_max=NUM_EPOCHS
        )

        # Training loop
        print("Starting training...")
        best_val_loss = float('inf')
        train_losses = []
        val_losses = []
        train_accs = []
        val_accs = []

        for epoch in range(NUM_EPOCHS):
            print(f"\nEpoch {epoch+1}/{NUM_EPOCHS}")

            # Train
            train_loss, train_acc = train_one_epoch(model, optimizer, train_loader, criterion, DEVICE)
            train_losses.append(train_loss)
            train_accs.append(train_acc)

            # Validate
            val_loss, val_acc, _, _ = evaluate(model, val_loader, criterion, DEVICE)
            val_losses.append(val_loss)
            val_accs.append(val_acc)

            # Update learning rate
            lr_scheduler.step()
            current_lr = optimizer.param_groups[0]['lr']

            print(f"Train Loss: {train_loss:.4f}, Train Acc: {train_acc:.2f}%")
            print(f"Val Loss: {val_loss:.4f}, Val Acc: {val_acc:.2f}%")
            print(f"Learning Rate: {current_lr:.6f}")

            # Save best model
            if val_loss < best_val_loss:
                best_val_loss = val_loss
                torch.save(model.state_dict(), 'resnet50_ship_classifier_best.pth')
                print("Saved best model checkpoint.")

        # Load best model
        model.load_state_dict(torch.load('resnet50_ship_classifier_best.pth'))

        # Final evaluation on test set
        print("\nFinal evaluation on test set...")
        _, test_acc, y_pred, y_true = evaluate(model, test_loader, criterion, DEVICE)
        print(f"Test Accuracy: {test_acc:.2f}%")

        # Plot confusion matrix
        class_names = ['no-ship', 'ship']
        cm = plot_confusion_matrix(y_true, y_pred, class_names)
        print("Confusion Matrix:")
        print(cm)
        
        # Generate and plot classification report
        report = classification_report(y_true, y_pred, target_names=class_names)
        print("\nClassification Report:")
        print(report)
        
        # Create metrics table visualization
        metrics_df = plot_metrics_table(y_true, y_pred, class_names, test_acc)
        
        # Plot training curves
        plot_training_curves(train_losses, val_losses, train_accs, val_accs)
        
        print("\nTraining complete! Best model saved as 'resnet50_ship_classifier_best.pth'")
        print("Results visualizations saved as 'confusion_matrix.png', 'resnet50_metrics.png', and 'training_curves.png'")
        
    except Exception as e:
        print(f"Error occurred: {e}")
        
    finally:
        # Optional: Clean up extraction directory
        # Uncomment if you want to delete the extracted files after processing
        # import shutil
        # if os.path.exists(EXTRACT_PATH):
        #     shutil.rmtree(EXTRACT_PATH)
        #     print(f"Cleaned up extraction directory: {EXTRACT_PATH}")
        pass
